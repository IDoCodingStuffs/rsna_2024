{
 "cells": [
  {
   "cell_type": "code",
   "execution_count": 1,
   "id": "86f01bab9611e788",
   "metadata": {},
   "outputs": [
    {
     "name": "stderr",
     "output_type": "stream",
     "text": [
      "Creating a tensor from a list of numpy.ndarrays is extremely slow. Please consider converting the list to a single numpy.ndarray with numpy.array() before converting to a tensor. (Triggered internally at ../torch/csrc/utils/tensor_new.cpp:278.)\n"
     ]
    }
   ],
   "source": [
    "import os\n",
    "import time\n",
    "\n",
    "import matplotlib.pyplot as plt\n",
    "import timm_3d\n",
    "import torch\n",
    "import torch.nn as nn\n",
    "import torchvision.models as models\n",
    "from torchvision import transforms\n",
    "from torchvision.transforms import v2\n",
    "from torch.utils.data import DataLoader\n",
    "from sklearn.model_selection import train_test_split\n",
    "from sklearn.metrics import confusion_matrix\n",
    "import pandas as pd\n",
    "from tqdm import tqdm\n",
    "import logging\n",
    "import seaborn as sn\n",
    "\n",
    "from rsna_dataloader import *\n",
    "from train_3d_model import *\n",
    "from constants import *"
   ]
  },
  {
   "cell_type": "code",
   "execution_count": 2,
   "id": "368debd0dfcdaf13",
   "metadata": {},
   "outputs": [
    {
     "name": "stderr",
     "output_type": "stream",
     "text": [
      "torch.meshgrid: in an upcoming release, it will be required to pass the indexing argument. (Triggered internally at ../aten/src/ATen/native/TensorShape.cpp:3609.)\n",
      "You are using `torch.load` with `weights_only=False` (the current default value), which uses the default pickle module implicitly. It is possible to construct malicious pickle data which will execute arbitrary code during unpickling (See https://github.com/pytorch/pytorch/blob/main/SECURITY.md#untrusted-models for more details). In a future release, the default value for `weights_only` will be flipped to `True`. This limits the functions that could be executed during unpickling. Arbitrary objects will no longer be allowed to be loaded via this mode unless they are explicitly allowlisted by the user via `torch.serialization.add_safe_globals`. We recommend you start setting `weights_only=True` for any use case where you don't have full control of the loaded file. Please open an issue on GitHub for any issues related to this experimental feature.\n"
     ]
    }
   ],
   "source": [
    "import torch\n",
    "\n",
    "model = CustomMaxxVit3dClassifier(backbone=CONFIG[\"backbone\"]).to(device)\n",
    "model.load_state_dict(torch.load(\"../models/maxvit_rmlp_bc_rw_96_v2_fold_0/maxvit_rmlp_bc_rw_96_v2_fold_0_35.pt\"))\n",
    "_ = model.eval()"
   ]
  },
  {
   "cell_type": "code",
   "execution_count": 3,
   "id": "454f9741cff61eda",
   "metadata": {},
   "outputs": [],
   "source": [
    "bounds_dataframe = pd.read_csv(os.path.join(\"../data/SpineNet/bounding_boxes_3d.csv\"))"
   ]
  },
  {
   "cell_type": "code",
   "execution_count": 4,
   "id": "72bf5051-e57d-4b06-a4d1-e6380b7045d9",
   "metadata": {},
   "outputs": [],
   "source": [
    "coords_dataframe = pd.read_csv(os.path.join(\"../data/SpineNet/coords_3d.csv\"))"
   ]
  },
  {
   "cell_type": "code",
   "execution_count": 5,
   "id": "b18920314084521f",
   "metadata": {},
   "outputs": [
    {
     "name": "stderr",
     "output_type": "stream",
     "text": [
      "The behavior of DataFrame concatenation with empty or all-NA entries is deprecated. In a future version, this will no longer exclude empty or all-NA columns when determining the result dtypes. To retain the old behavior, exclude the relevant entries before the concat operation.\n"
     ]
    }
   ],
   "source": [
    "import numpy as np\n",
    "\n",
    "conditions = sorted(TRAINING_DATA[\"condition\"].unique())\n",
    "\n",
    "transform_3d_val = tio.Compose([\n",
    "    tio.RescaleIntensity((0, 1)),\n",
    "])\n",
    "\n",
    "train_data = TRAINING_DATA[TRAINING_DATA[\"study_id\"].isin(bounds_dataframe[\"study_id\"])]\n",
    "folds = create_vertebra_level_datasets_and_loaders_k_fold(train_data,\n",
    "                                                          bounds_dataframe,\n",
    "                                                          coords_df=coords_dataframe,\n",
    "                                                            transform_3d_train=transform_3d_val,\n",
    "                                                            transform_3d_val=transform_3d_val,\n",
    "                                                            base_path=os.path.join(\n",
    "                                                                DATA_BASEPATH,\n",
    "                                                                \"train_images\"),\n",
    "                                                            vol_size=(96, 96, 96),\n",
    "                                                            num_workers=0,\n",
    "                                                            split_k=5,\n",
    "                                                            batch_size=1,\n",
    "                                                            use_mirroring_trick=True)"
   ]
  },
  {
   "cell_type": "code",
   "execution_count": 6,
   "id": "68324568febcef68",
   "metadata": {},
   "outputs": [],
   "source": [
    "trainloader, valloader, trainset, valset = folds[0]"
   ]
  },
  {
   "cell_type": "code",
   "execution_count": null,
   "id": "29abf8512d2665f",
   "metadata": {
    "is_executing": true
   },
   "outputs": [
    {
     "name": "stderr",
     "output_type": "stream",
     "text": [
      "`torch.cuda.amp.autocast(args...)` is deprecated. Please use `torch.amp.autocast('cuda', args...)` instead.\n",
      " 27%|█████████████████████▊                                                          | 478/1750 [01:03<02:49,  7.52it/s]"
     ]
    }
   ],
   "source": [
    "from torch.cuda.amp import autocast\n",
    "from tqdm import tqdm\n",
    "\n",
    "inferred = []\n",
    "target = []\n",
    "\n",
    "inferred_per_level = {i:[] for i in range(5)}\n",
    "target_per_level = {i: [] for i in range(5)}\n",
    "\n",
    "with torch.no_grad():\n",
    "    with autocast(dtype=torch.bfloat16):\n",
    "        for image, level, label in tqdm(valloader):\n",
    "            out = model(image.to(device), level.to(device)).cpu().detach()\n",
    "            \n",
    "            target.append(label.detach())\n",
    "            inferred.append(out)\n",
    "\n",
    "            level_idx = np.argmax(level.numpy())\n",
    "            inferred_per_level[level_idx].append(out)\n",
    "            target_per_level[level_idx].append(label.detach())"
   ]
  },
  {
   "cell_type": "code",
   "execution_count": null,
   "id": "9ada889dc67cd91d",
   "metadata": {},
   "outputs": [],
   "source": [
    "inferred_new = []\n",
    "target_new = []\n",
    "for e in inferred:\n",
    "    for elem in e:\n",
    "        inferred_new.append(elem.reshape((-1, 5, 3)))\n",
    "for e in target:\n",
    "    for elem in e:\n",
    "        target_new.append([[0 if i != elem_ else 1 for i in range(3)] for elem_ in elem])\n",
    "        \n",
    "        \n",
    "inferred_new[1], target_new[1]"
   ]
  },
  {
   "cell_type": "code",
   "execution_count": null,
   "id": "be6a86696016b5c",
   "metadata": {},
   "outputs": [],
   "source": [
    "inferred_l = [[np.argmax(e_) for e_ in e.detach().cpu()[0]] for e in inferred_new]\n",
    "target_l = [[np.argmax(e_) for e_ in e] for e in target_new]"
   ]
  },
  {
   "cell_type": "code",
   "execution_count": null,
   "id": "316e15417a70bf9d",
   "metadata": {},
   "outputs": [],
   "source": [
    "len(inferred_l[1]), len(target_l[1])"
   ]
  },
  {
   "cell_type": "code",
   "execution_count": null,
   "id": "79473339b733324a",
   "metadata": {},
   "outputs": [],
   "source": [
    "conditions"
   ]
  },
  {
   "cell_type": "code",
   "execution_count": null,
   "id": "355146541594ea3d",
   "metadata": {},
   "outputs": [],
   "source": [
    "import numpy as np\n",
    "import seaborn as sn\n",
    "from sklearn.metrics import confusion_matrix\n",
    "from operator import truediv\n",
    "\n",
    "precisions = []\n",
    "recalls = []\n",
    "\n",
    "fig, ax = plt.subplots(nrows=5, ncols=1, squeeze=False)\n",
    "fig.tight_layout()\n",
    "for i in range(5):\n",
    "    target_ = [e[i] for e in target_l]\n",
    "    inferred_ = [e[i] for e in inferred_l]\n",
    "    \n",
    "    ax[i][0].set_title(conditions[i])\n",
    "    \n",
    "    cf_matrix = confusion_matrix(target_, inferred_)\n",
    "    sn.heatmap(cf_matrix / (np.sum(cf_matrix) + 1e-7), ax=ax[i][0], annot=True, fmt='.3%')\n",
    "\n",
    "    true_pos = np.diag(cf_matrix)\n",
    "    prec = list(map(truediv, true_pos, np.sum(cf_matrix, axis=0) + 1e-7))\n",
    "    rec = list(map(truediv, true_pos, np.sum(cf_matrix, axis=1) + 1e-7))\n",
    "    \n",
    "    precisions.append(prec)\n",
    "    recalls.append(rec)\n",
    "\n",
    "plt.show()\n"
   ]
  },
  {
   "cell_type": "code",
   "execution_count": null,
   "id": "3f5d50aad24a71a0",
   "metadata": {},
   "outputs": [],
   "source": [
    "fig, ax = plt.subplots(nrows=5, ncols=1)\n",
    "fig.tight_layout()\n",
    "\n",
    "plt.set_loglevel('WARNING')\n",
    "for i in range(5):\n",
    "    try:\n",
    "        val_len = len(precisions[i])\n",
    "        ax[i].set(ylim=(0, 1))\n",
    "        \n",
    "        ax[i].set_title(conditions[i])\n",
    "        sn.barplot(x=range(val_len), y=precisions[i], ax=ax[i], label='Precision')\n",
    "        sn.barplot(x=range(val_len, val_len * 2), y=recalls[i], ax=ax[i], label='Recall')\n",
    "        bar_ax = sn.barplot(x=range(val_len * 2, val_len * 3), y=2 / (1 / (np.array(recalls[i]) + 1e-7) + 1 / (np.array(precisions[i]) + 1e-7)), ax=ax[i], label=\"F1\")\n",
    "        for i in bar_ax.containers:\n",
    "           bar_ax.bar_label(i,)\n",
    "    except:\n",
    "        pass\n",
    "\n",
    "plt.show()"
   ]
  },
  {
   "cell_type": "code",
   "execution_count": null,
   "id": "2f5f7ad07983cffe",
   "metadata": {},
   "outputs": [],
   "source": [
    "for level_idx in range(5):\n",
    "    inferred_level = []\n",
    "    target_level = []\n",
    "    \n",
    "    for e in inferred_per_level[level_idx]:\n",
    "        for elem in e:\n",
    "            inferred_level.append(elem.reshape((-1, 5, 3)))\n",
    "    for e in target_per_level[level_idx]:\n",
    "        for elem in e:\n",
    "            target_level.append([[0 if i != elem_ else 1 for i in range(3)] for elem_ in elem])\n",
    "\n",
    "    inferred_lv = [[np.argmax(e_) for e_ in e.detach().cpu()[0]] for e in inferred_level]\n",
    "    target_lv = [[np.argmax(e_) for e_ in e] for e in target_level]\n",
    "    \n",
    "    precisions = []\n",
    "    recalls = []\n",
    "\n",
    "    fig, ax = plt.subplots(nrows=5, ncols=1, squeeze=False)\n",
    "    fig.tight_layout()\n",
    "    for i in range(5):\n",
    "        target_ = [e[i] for e in target_lv]\n",
    "        inferred_ = [e[i] for e in inferred_lv]\n",
    "        \n",
    "        ax[i][0].set_title(conditions[i])\n",
    "        \n",
    "        cf_matrix = confusion_matrix(target_, inferred_)\n",
    "        sn.heatmap(cf_matrix / (np.sum(cf_matrix) + 1e-7), ax=ax[i][0], annot=True, fmt='.3%')\n",
    "    \n",
    "        true_pos = np.diag(cf_matrix)\n",
    "        prec = list(map(truediv, true_pos, np.sum(cf_matrix, axis=0) + 1e-7))\n",
    "        rec = list(map(truediv, true_pos, np.sum(cf_matrix, axis=1) + 1e-7))\n",
    "        \n",
    "        precisions.append(prec)\n",
    "        recalls.append(rec)\n",
    "    \n",
    "    plt.show()\n",
    "\n",
    "    fig, ax = plt.subplots(nrows=5, ncols=1)\n",
    "    fig.tight_layout()\n",
    "    \n",
    "    plt.set_loglevel('WARNING')\n",
    "    for i in range(5):\n",
    "        try:\n",
    "            val_len = len(precisions[i])\n",
    "            ax[i].set(ylim=(0, 1))\n",
    "            \n",
    "            ax[i].set_title(conditions[i])\n",
    "            sn.barplot(x=range(val_len), y=precisions[i], ax=ax[i], label='Precision')\n",
    "            sn.barplot(x=range(val_len, val_len * 2), y=recalls[i], ax=ax[i], label='Recall')\n",
    "            bar_ax = sn.barplot(x=range(val_len * 2, val_len * 3), y=2 / (1 / (np.array(recalls[i]) + 1e-7) + 1 / (np.array(precisions[i]) + 1e-7)), ax=ax[i], label=\"F1\")\n",
    "            for i in bar_ax.containers:\n",
    "               bar_ax.bar_label(i,)\n",
    "        except:\n",
    "            pass\n",
    "    \n",
    "    plt.show()"
   ]
  }
 ],
 "metadata": {
  "kernelspec": {
   "display_name": "python-doodles",
   "language": "python",
   "name": "python-doodles"
  },
  "language_info": {
   "codemirror_mode": {
    "name": "ipython",
    "version": 3
   },
   "file_extension": ".py",
   "mimetype": "text/x-python",
   "name": "python",
   "nbconvert_exporter": "python",
   "pygments_lexer": "ipython3",
   "version": "3.12.5"
  }
 },
 "nbformat": 4,
 "nbformat_minor": 5
}
