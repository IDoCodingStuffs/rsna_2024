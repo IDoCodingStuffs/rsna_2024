{
 "cells": [
  {
   "cell_type": "code",
   "id": "initial_id",
   "metadata": {
    "collapsed": true,
    "ExecuteTime": {
     "end_time": "2024-09-23T14:19:25.895612Z",
     "start_time": "2024-09-23T14:19:23.128943Z"
    }
   },
   "source": [
    "import pandas as pd\n",
    "import numpy as np\n",
    "from pydicom import dcmread\n",
    "import sys\n",
    "\n",
    "sys.path.insert(0, '../../data/SpineNet')\n",
    "import spinenet\n",
    "from spinenet import SpineNet, download_example_scan\n",
    "from spinenet.io import load_dicoms_from_folder\n",
    "\n",
    "spnt = SpineNet(device='cuda:0', verbose=True)"
   ],
   "outputs": [
    {
     "name": "stderr",
     "output_type": "stream",
     "text": [
      "C:\\Users\\Victor\\.conda\\envs\\python-doodles\\Lib\\site-packages\\torchvision\\models\\_utils.py:208: UserWarning: The parameter 'pretrained' is deprecated since 0.13 and may be removed in the future, please use 'weights' instead.\n",
      "  warnings.warn(\n",
      "C:\\Users\\Victor\\.conda\\envs\\python-doodles\\Lib\\site-packages\\torchvision\\models\\_utils.py:223: UserWarning: Arguments other than a weight enum or `None` for 'weights' are deprecated since 0.13 and may be removed in the future. The current behavior is equivalent to passing `weights=None`.\n",
      "  warnings.warn(msg)\n"
     ]
    },
    {
     "name": "stdout",
     "output_type": "stream",
     "text": [
      "Loading Detection Model...\n",
      "==> Loading model trained for 436 epochs...\n",
      "Loading Appearance Model...\n",
      "==> Loading model trained for 188 epochs...\n",
      "Loading Context Model...\n",
      "==> Loading model trained for 17 epochs...\n",
      "Loading Grading Model...\n",
      "==> Loading model trained for 2 epochs...\n"
     ]
    }
   ],
   "execution_count": 2
  },
  {
   "metadata": {
    "ExecuteTime": {
     "end_time": "2024-09-23T14:19:51.765771Z",
     "start_time": "2024-09-23T14:19:51.762543Z"
    }
   },
   "cell_type": "code",
   "source": [
    "LEVELS = [\"L1\", \"L2\", \"L3\", \"L4\", \"L5\", \"S1\"]\n",
    "COLORS = {\n",
    "    \"L1\": \"red\",\n",
    "    \"L2\": \"blue\",\n",
    "    \"L3\": \"green\",\n",
    "    \"L4\": \"yellow\",\n",
    "    \"L5\": \"white\",\n",
    "    \"S1\": \"purple\"\n",
    "}"
   ],
   "id": "bc4d7c199292c023",
   "outputs": [],
   "execution_count": 3
  },
  {
   "metadata": {
    "ExecuteTime": {
     "end_time": "2024-09-23T14:20:59.686090Z",
     "start_time": "2024-09-23T14:20:59.683427Z"
    }
   },
   "cell_type": "code",
   "source": [
    "train_descs_path = \"../../data/rsna-2024-lumbar-spine-degenerative-classification/train_series_descriptions.csv\"\n",
    "train_images_path = \"../../data/rsna-2024-lumbar-spine-degenerative-classification/train_images\""
   ],
   "id": "e1edbbde9d31b2e7",
   "outputs": [],
   "execution_count": 6
  },
  {
   "metadata": {
    "ExecuteTime": {
     "end_time": "2024-09-23T14:21:00.034680Z",
     "start_time": "2024-09-23T14:20:59.986325Z"
    }
   },
   "cell_type": "code",
   "source": [
    "train_descs = pd.read_csv(train_descs_path)\n",
    "train_descs = train_descs[train_descs[\"series_description\"] == \"Sagittal T1\"]\n",
    "train_descs"
   ],
   "id": "c519efa461b9a378",
   "outputs": [
    {
     "data": {
      "text/plain": [
       "        study_id   series_id series_description\n",
       "1        4003253  1054713880        Sagittal T1\n",
       "4        4646740  3486248476        Sagittal T1\n",
       "8        7143189  3219733239        Sagittal T1\n",
       "10       8785691  1570286759        Sagittal T1\n",
       "14      10728036  2399638375        Sagittal T1\n",
       "...          ...         ...                ...\n",
       "6281  4282019580  3029774733        Sagittal T1\n",
       "6283  4283570761  2708429184        Sagittal T1\n",
       "6285  4284048608  1875151370        Sagittal T1\n",
       "6288  4287160193   327893304        Sagittal T1\n",
       "6293  4290709089  4237840455        Sagittal T1\n",
       "\n",
       "[1980 rows x 3 columns]"
      ],
      "text/html": [
       "<div>\n",
       "<style scoped>\n",
       "    .dataframe tbody tr th:only-of-type {\n",
       "        vertical-align: middle;\n",
       "    }\n",
       "\n",
       "    .dataframe tbody tr th {\n",
       "        vertical-align: top;\n",
       "    }\n",
       "\n",
       "    .dataframe thead th {\n",
       "        text-align: right;\n",
       "    }\n",
       "</style>\n",
       "<table border=\"1\" class=\"dataframe\">\n",
       "  <thead>\n",
       "    <tr style=\"text-align: right;\">\n",
       "      <th></th>\n",
       "      <th>study_id</th>\n",
       "      <th>series_id</th>\n",
       "      <th>series_description</th>\n",
       "    </tr>\n",
       "  </thead>\n",
       "  <tbody>\n",
       "    <tr>\n",
       "      <th>1</th>\n",
       "      <td>4003253</td>\n",
       "      <td>1054713880</td>\n",
       "      <td>Sagittal T1</td>\n",
       "    </tr>\n",
       "    <tr>\n",
       "      <th>4</th>\n",
       "      <td>4646740</td>\n",
       "      <td>3486248476</td>\n",
       "      <td>Sagittal T1</td>\n",
       "    </tr>\n",
       "    <tr>\n",
       "      <th>8</th>\n",
       "      <td>7143189</td>\n",
       "      <td>3219733239</td>\n",
       "      <td>Sagittal T1</td>\n",
       "    </tr>\n",
       "    <tr>\n",
       "      <th>10</th>\n",
       "      <td>8785691</td>\n",
       "      <td>1570286759</td>\n",
       "      <td>Sagittal T1</td>\n",
       "    </tr>\n",
       "    <tr>\n",
       "      <th>14</th>\n",
       "      <td>10728036</td>\n",
       "      <td>2399638375</td>\n",
       "      <td>Sagittal T1</td>\n",
       "    </tr>\n",
       "    <tr>\n",
       "      <th>...</th>\n",
       "      <td>...</td>\n",
       "      <td>...</td>\n",
       "      <td>...</td>\n",
       "    </tr>\n",
       "    <tr>\n",
       "      <th>6281</th>\n",
       "      <td>4282019580</td>\n",
       "      <td>3029774733</td>\n",
       "      <td>Sagittal T1</td>\n",
       "    </tr>\n",
       "    <tr>\n",
       "      <th>6283</th>\n",
       "      <td>4283570761</td>\n",
       "      <td>2708429184</td>\n",
       "      <td>Sagittal T1</td>\n",
       "    </tr>\n",
       "    <tr>\n",
       "      <th>6285</th>\n",
       "      <td>4284048608</td>\n",
       "      <td>1875151370</td>\n",
       "      <td>Sagittal T1</td>\n",
       "    </tr>\n",
       "    <tr>\n",
       "      <th>6288</th>\n",
       "      <td>4287160193</td>\n",
       "      <td>327893304</td>\n",
       "      <td>Sagittal T1</td>\n",
       "    </tr>\n",
       "    <tr>\n",
       "      <th>6293</th>\n",
       "      <td>4290709089</td>\n",
       "      <td>4237840455</td>\n",
       "      <td>Sagittal T1</td>\n",
       "    </tr>\n",
       "  </tbody>\n",
       "</table>\n",
       "<p>1980 rows × 3 columns</p>\n",
       "</div>"
      ]
     },
     "execution_count": 7,
     "metadata": {},
     "output_type": "execute_result"
    }
   ],
   "execution_count": 7
  },
  {
   "metadata": {
    "ExecuteTime": {
     "end_time": "2024-09-23T14:21:17.522859Z",
     "start_time": "2024-09-23T14:21:17.519487Z"
    }
   },
   "cell_type": "code",
   "source": [
    "def calculate_centers(data):\n",
    "    centers = {}\n",
    "    for item in data:\n",
    "        level = item[\"predicted_label\"]\n",
    "        if level in LEVELS:\n",
    "            average_polygon = item[\"average_polygon\"]\n",
    "            centroid_x = np.mean(average_polygon[:, 0])\n",
    "            centroid_y = np.mean(average_polygon[:, 1])\n",
    "            centroid_z = item[\"slice_nos\"][len(item[\"slice_nos\"])//2]\n",
    "            centers[level] = (centroid_x, centroid_y, centroid_z)\n",
    "    return centers"
   ],
   "id": "e2b3e1a41508752f",
   "outputs": [],
   "execution_count": 8
  },
  {
   "metadata": {
    "ExecuteTime": {
     "end_time": "2024-09-23T14:21:22.026638Z",
     "start_time": "2024-09-23T14:21:22.023361Z"
    }
   },
   "cell_type": "code",
   "source": [
    "centers_per_study = {\n",
    "    \"study_id\": [],\n",
    "    \"series_id\": [],\n",
    "    \"x\": [],\n",
    "    \"y\": [],\n",
    "    \"instance_number\": [],\n",
    "    \"level\": []\n",
    "}\n"
   ],
   "id": "b0efe7bba8ec7be5",
   "outputs": [],
   "execution_count": 9
  },
  {
   "metadata": {
    "ExecuteTime": {
     "end_time": "2024-09-23T15:10:53.088370Z",
     "start_time": "2024-09-23T14:21:53.958381Z"
    }
   },
   "cell_type": "code",
   "source": [
    "from tqdm import tqdm\n",
    "\n",
    "for index, row in tqdm(train_descs.iterrows()):\n",
    "    scan = load_dicoms_from_folder(f\"{train_images_path}/{row['study_id']}/{row['series_id']}\", require_extensions=False)\n",
    "    num_slices = scan.volume.shape[-1]\n",
    "\n",
    "    vert_dicts = spnt.detect_vb(scan.volume, scan.pixel_spacing)\n",
    "    centers = calculate_centers(vert_dicts)\n",
    "    \n",
    "    for level in centers:\n",
    "        centers_per_study[\"study_id\"].append(row['study_id'])\n",
    "        centers_per_study[\"series_id\"].append(row['series_id'])\n",
    "        centers_per_study[\"level\"].append(level)\n",
    "        \n",
    "        centers_per_study[\"x\"].append(centers[level][0])\n",
    "        centers_per_study[\"y\"].append(centers[level][1])\n",
    "        centers_per_study[\"instance_number\"].append(centers[level][2])\n"
   ],
   "id": "d60daf4b3a9b230",
   "outputs": [
    {
     "name": "stderr",
     "output_type": "stream",
     "text": [
      "180it [04:27,  1.37s/it]"
     ]
    },
    {
     "name": "stdout",
     "output_type": "stream",
     "text": [
      "merging\n",
      "merging vert 7 with 3\n"
     ]
    },
    {
     "name": "stderr",
     "output_type": "stream",
     "text": [
      "241it [05:54,  1.86s/it]"
     ]
    },
    {
     "name": "stdout",
     "output_type": "stream",
     "text": [
      "merging\n",
      "merging vert 7 with 4\n"
     ]
    },
    {
     "name": "stderr",
     "output_type": "stream",
     "text": [
      "418it [10:21,  1.66s/it]"
     ]
    },
    {
     "name": "stdout",
     "output_type": "stream",
     "text": [
      "merging\n",
      "merging vert 6 with 0\n"
     ]
    },
    {
     "name": "stderr",
     "output_type": "stream",
     "text": [
      "552it [13:36,  1.24s/it]"
     ]
    },
    {
     "name": "stdout",
     "output_type": "stream",
     "text": [
      "Input and output sizes should be greater than 0, but got input (H: 157, W: 0) output (H: 224, W: 224)\n",
      "Warning: Could not resize vertebral volume!\n",
      "195 -2 155 352\n"
     ]
    },
    {
     "name": "stderr",
     "output_type": "stream",
     "text": [
      "614it [15:08,  1.26s/it]"
     ]
    },
    {
     "name": "stdout",
     "output_type": "stream",
     "text": [
      "merging\n",
      "merging vert 2 with 0\n"
     ]
    },
    {
     "name": "stderr",
     "output_type": "stream",
     "text": [
      "762it [18:53,  1.61s/it]"
     ]
    },
    {
     "name": "stdout",
     "output_type": "stream",
     "text": [
      "merging\n",
      "merging vert 4 with 3\n"
     ]
    },
    {
     "name": "stderr",
     "output_type": "stream",
     "text": [
      "784it [19:24,  1.52s/it]"
     ]
    },
    {
     "name": "stdout",
     "output_type": "stream",
     "text": [
      "merging\n",
      "merging vert 3 with 0\n"
     ]
    },
    {
     "name": "stderr",
     "output_type": "stream",
     "text": [
      "810it [20:02,  1.14s/it]"
     ]
    },
    {
     "name": "stdout",
     "output_type": "stream",
     "text": [
      "merging\n",
      "merging vert 4 with 3\n"
     ]
    },
    {
     "name": "stderr",
     "output_type": "stream",
     "text": [
      "816it [20:10,  1.52s/it]"
     ]
    },
    {
     "name": "stdout",
     "output_type": "stream",
     "text": [
      "merging\n",
      "merging vert 6 with 0\n"
     ]
    },
    {
     "name": "stderr",
     "output_type": "stream",
     "text": [
      "857it [21:13,  1.21s/it]"
     ]
    },
    {
     "name": "stdout",
     "output_type": "stream",
     "text": [
      "merging\n",
      "merging\n",
      "merging vert 1 with 0\n",
      "merging vert 6 with 0\n"
     ]
    },
    {
     "name": "stderr",
     "output_type": "stream",
     "text": [
      "917it [22:51,  1.82s/it]"
     ]
    },
    {
     "name": "stdout",
     "output_type": "stream",
     "text": [
      "merging\n",
      "merging\n",
      "merging\n",
      "merging\n",
      "merging vert 3 with 2\n",
      "merging vert 9 with 2\n",
      "merging vert 9 with 3\n",
      "merging vert 10 with 8\n"
     ]
    },
    {
     "name": "stderr",
     "output_type": "stream",
     "text": [
      "934it [23:16,  1.59s/it]"
     ]
    },
    {
     "name": "stdout",
     "output_type": "stream",
     "text": [
      "merging\n",
      "merging vert 8 with 3\n"
     ]
    },
    {
     "name": "stderr",
     "output_type": "stream",
     "text": [
      "1220it [30:14,  1.29s/it]"
     ]
    },
    {
     "name": "stdout",
     "output_type": "stream",
     "text": [
      "merging\n",
      "merging vert 6 with 1\n"
     ]
    },
    {
     "name": "stderr",
     "output_type": "stream",
     "text": [
      "1341it [33:09,  1.73s/it]"
     ]
    },
    {
     "name": "stdout",
     "output_type": "stream",
     "text": [
      "merging\n",
      "merging vert 5 with 1\n"
     ]
    },
    {
     "name": "stderr",
     "output_type": "stream",
     "text": [
      "1461it [36:05,  1.97s/it]"
     ]
    },
    {
     "name": "stdout",
     "output_type": "stream",
     "text": [
      "merging\n",
      "merging vert 7 with 4\n"
     ]
    },
    {
     "name": "stderr",
     "output_type": "stream",
     "text": [
      "1504it [37:08,  1.49s/it]"
     ]
    },
    {
     "name": "stdout",
     "output_type": "stream",
     "text": [
      "merging\n",
      "merging vert 7 with 1\n"
     ]
    },
    {
     "name": "stderr",
     "output_type": "stream",
     "text": [
      "1561it [38:36,  1.46s/it]"
     ]
    },
    {
     "name": "stdout",
     "output_type": "stream",
     "text": [
      "merging\n",
      "merging vert 4 with 0\n"
     ]
    },
    {
     "name": "stderr",
     "output_type": "stream",
     "text": [
      "1602it [39:33,  1.13s/it]"
     ]
    },
    {
     "name": "stdout",
     "output_type": "stream",
     "text": [
      "merging\n",
      "merging vert 1 with 0\n"
     ]
    },
    {
     "name": "stderr",
     "output_type": "stream",
     "text": [
      "1643it [40:41,  1.82s/it]"
     ]
    },
    {
     "name": "stdout",
     "output_type": "stream",
     "text": [
      "merging\n",
      "merging vert 2 with 0\n"
     ]
    },
    {
     "name": "stderr",
     "output_type": "stream",
     "text": [
      "1690it [41:46,  1.72s/it]"
     ]
    },
    {
     "name": "stdout",
     "output_type": "stream",
     "text": [
      "merging\n",
      "merging vert 8 with 0\n"
     ]
    },
    {
     "name": "stderr",
     "output_type": "stream",
     "text": [
      "1714it [42:21,  1.60s/it]"
     ]
    },
    {
     "name": "stdout",
     "output_type": "stream",
     "text": [
      "merging\n",
      "merging vert 3 with 1\n"
     ]
    },
    {
     "name": "stderr",
     "output_type": "stream",
     "text": [
      "1725it [42:37,  1.41s/it]"
     ]
    },
    {
     "name": "stdout",
     "output_type": "stream",
     "text": [
      "merging\n",
      "merging vert 6 with 3\n"
     ]
    },
    {
     "name": "stderr",
     "output_type": "stream",
     "text": [
      "1734it [42:52,  1.78s/it]"
     ]
    },
    {
     "name": "stdout",
     "output_type": "stream",
     "text": [
      "merging\n",
      "merging vert 7 with 1\n"
     ]
    },
    {
     "name": "stderr",
     "output_type": "stream",
     "text": [
      "1745it [43:09,  1.33s/it]"
     ]
    },
    {
     "name": "stdout",
     "output_type": "stream",
     "text": [
      "merging\n",
      "merging vert 7 with 2\n"
     ]
    },
    {
     "name": "stderr",
     "output_type": "stream",
     "text": [
      "1775it [43:53,  1.58s/it]"
     ]
    },
    {
     "name": "stdout",
     "output_type": "stream",
     "text": [
      "merging\n",
      "merging vert 1 with 0\n"
     ]
    },
    {
     "name": "stderr",
     "output_type": "stream",
     "text": [
      "1808it [44:45,  1.41s/it]"
     ]
    },
    {
     "name": "stdout",
     "output_type": "stream",
     "text": [
      "merging\n",
      "merging vert 5 with 1\n"
     ]
    },
    {
     "name": "stderr",
     "output_type": "stream",
     "text": [
      "1962it [48:34,  1.28s/it]"
     ]
    },
    {
     "name": "stdout",
     "output_type": "stream",
     "text": [
      "merging\n",
      "merging vert 5 with 1\n"
     ]
    },
    {
     "name": "stderr",
     "output_type": "stream",
     "text": [
      "1980it [48:59,  1.48s/it]\n"
     ]
    }
   ],
   "execution_count": 10
  },
  {
   "metadata": {
    "ExecuteTime": {
     "end_time": "2024-09-23T15:10:53.108264Z",
     "start_time": "2024-09-23T15:10:53.089373Z"
    }
   },
   "cell_type": "code",
   "source": [
    "centers_per_study = pd.DataFrame.from_dict(centers_per_study)\n",
    "centers_per_study"
   ],
   "id": "63c8139871f29d9a",
   "outputs": [
    {
     "data": {
      "text/plain": [
       "         study_id   series_id           x           y  instance_number level\n",
       "0         4003253  1054713880  171.570871  116.577009                8    L1\n",
       "1         4003253  1054713880  169.672123  157.646825                8    L2\n",
       "2         4003253  1054713880  166.796317  202.517857                8    L3\n",
       "3         4003253  1054713880  168.193304  246.345536                8    L4\n",
       "4         4003253  1054713880  180.032143  285.492411                7    L5\n",
       "...           ...         ...         ...         ...              ...   ...\n",
       "11844  4290709089  4237840455  185.137175  125.306412                7    L2\n",
       "11845  4290709089  4237840455  179.620908  171.211682                7    L3\n",
       "11846  4290709089  4237840455  182.849026  216.144075                7    L4\n",
       "11847  4290709089  4237840455  195.545860  259.996347                7    L5\n",
       "11848  4290709089  4237840455  223.953328  295.800731                7    S1\n",
       "\n",
       "[11849 rows x 6 columns]"
      ],
      "text/html": [
       "<div>\n",
       "<style scoped>\n",
       "    .dataframe tbody tr th:only-of-type {\n",
       "        vertical-align: middle;\n",
       "    }\n",
       "\n",
       "    .dataframe tbody tr th {\n",
       "        vertical-align: top;\n",
       "    }\n",
       "\n",
       "    .dataframe thead th {\n",
       "        text-align: right;\n",
       "    }\n",
       "</style>\n",
       "<table border=\"1\" class=\"dataframe\">\n",
       "  <thead>\n",
       "    <tr style=\"text-align: right;\">\n",
       "      <th></th>\n",
       "      <th>study_id</th>\n",
       "      <th>series_id</th>\n",
       "      <th>x</th>\n",
       "      <th>y</th>\n",
       "      <th>instance_number</th>\n",
       "      <th>level</th>\n",
       "    </tr>\n",
       "  </thead>\n",
       "  <tbody>\n",
       "    <tr>\n",
       "      <th>0</th>\n",
       "      <td>4003253</td>\n",
       "      <td>1054713880</td>\n",
       "      <td>171.570871</td>\n",
       "      <td>116.577009</td>\n",
       "      <td>8</td>\n",
       "      <td>L1</td>\n",
       "    </tr>\n",
       "    <tr>\n",
       "      <th>1</th>\n",
       "      <td>4003253</td>\n",
       "      <td>1054713880</td>\n",
       "      <td>169.672123</td>\n",
       "      <td>157.646825</td>\n",
       "      <td>8</td>\n",
       "      <td>L2</td>\n",
       "    </tr>\n",
       "    <tr>\n",
       "      <th>2</th>\n",
       "      <td>4003253</td>\n",
       "      <td>1054713880</td>\n",
       "      <td>166.796317</td>\n",
       "      <td>202.517857</td>\n",
       "      <td>8</td>\n",
       "      <td>L3</td>\n",
       "    </tr>\n",
       "    <tr>\n",
       "      <th>3</th>\n",
       "      <td>4003253</td>\n",
       "      <td>1054713880</td>\n",
       "      <td>168.193304</td>\n",
       "      <td>246.345536</td>\n",
       "      <td>8</td>\n",
       "      <td>L4</td>\n",
       "    </tr>\n",
       "    <tr>\n",
       "      <th>4</th>\n",
       "      <td>4003253</td>\n",
       "      <td>1054713880</td>\n",
       "      <td>180.032143</td>\n",
       "      <td>285.492411</td>\n",
       "      <td>7</td>\n",
       "      <td>L5</td>\n",
       "    </tr>\n",
       "    <tr>\n",
       "      <th>...</th>\n",
       "      <td>...</td>\n",
       "      <td>...</td>\n",
       "      <td>...</td>\n",
       "      <td>...</td>\n",
       "      <td>...</td>\n",
       "      <td>...</td>\n",
       "    </tr>\n",
       "    <tr>\n",
       "      <th>11844</th>\n",
       "      <td>4290709089</td>\n",
       "      <td>4237840455</td>\n",
       "      <td>185.137175</td>\n",
       "      <td>125.306412</td>\n",
       "      <td>7</td>\n",
       "      <td>L2</td>\n",
       "    </tr>\n",
       "    <tr>\n",
       "      <th>11845</th>\n",
       "      <td>4290709089</td>\n",
       "      <td>4237840455</td>\n",
       "      <td>179.620908</td>\n",
       "      <td>171.211682</td>\n",
       "      <td>7</td>\n",
       "      <td>L3</td>\n",
       "    </tr>\n",
       "    <tr>\n",
       "      <th>11846</th>\n",
       "      <td>4290709089</td>\n",
       "      <td>4237840455</td>\n",
       "      <td>182.849026</td>\n",
       "      <td>216.144075</td>\n",
       "      <td>7</td>\n",
       "      <td>L4</td>\n",
       "    </tr>\n",
       "    <tr>\n",
       "      <th>11847</th>\n",
       "      <td>4290709089</td>\n",
       "      <td>4237840455</td>\n",
       "      <td>195.545860</td>\n",
       "      <td>259.996347</td>\n",
       "      <td>7</td>\n",
       "      <td>L5</td>\n",
       "    </tr>\n",
       "    <tr>\n",
       "      <th>11848</th>\n",
       "      <td>4290709089</td>\n",
       "      <td>4237840455</td>\n",
       "      <td>223.953328</td>\n",
       "      <td>295.800731</td>\n",
       "      <td>7</td>\n",
       "      <td>S1</td>\n",
       "    </tr>\n",
       "  </tbody>\n",
       "</table>\n",
       "<p>11849 rows × 6 columns</p>\n",
       "</div>"
      ]
     },
     "execution_count": 11,
     "metadata": {},
     "output_type": "execute_result"
    }
   ],
   "execution_count": 11
  },
  {
   "metadata": {
    "ExecuteTime": {
     "end_time": "2024-09-23T15:12:29.229476Z",
     "start_time": "2024-09-23T15:12:29.190204Z"
    }
   },
   "cell_type": "code",
   "source": "centers_per_study.to_csv('../../data/SpineNet/centers_per_study.csv', index=False)",
   "id": "9b234263cfe5a72c",
   "outputs": [],
   "execution_count": 12
  },
  {
   "metadata": {
    "ExecuteTime": {
     "end_time": "2024-09-23T15:13:04.956697Z",
     "start_time": "2024-09-23T15:13:04.952285Z"
    }
   },
   "cell_type": "code",
   "source": [
    "def convert_coords_to_patient(x, y, dicom_slice):\n",
    "    \n",
    "    # transform_matrix_factor = np.matrix(\n",
    "    #     [[0, 1, 0, 0],\n",
    "    #      [1, 0, 0, 0],\n",
    "    #      [0, 0, 1, 0],\n",
    "    #      [0, 0, 0, 1]]\n",
    "    # )\n",
    "        \n",
    "    dX, dY = dicom_slice.PixelSpacing\n",
    "    \n",
    "    X = np.array(list(dicom_slice.ImageOrientationPatient[:3]) + [0]) * dY\n",
    "    Y = np.array(list(dicom_slice.ImageOrientationPatient[3:]) + [0]) * dX\n",
    "\n",
    "    S = np.array(list(dicom_slice.ImagePositionPatient) + [1])\n",
    "\n",
    "    transform_matrix = np.array([Y, X, np.zeros(len(X)), S]).T\n",
    "    # transform_matrix = transform_matrix @ transform_matrix_factor\n",
    "\n",
    "    return (transform_matrix @ np.array([y, x, 0, 1]).T)"
   ],
   "id": "e2ab8dd6e58f6b71",
   "outputs": [],
   "execution_count": 15
  },
  {
   "metadata": {
    "ExecuteTime": {
     "end_time": "2024-09-23T15:13:22.112392Z",
     "start_time": "2024-09-23T15:13:17.296418Z"
    }
   },
   "cell_type": "code",
   "source": [
    "train_images_basepath = \"../../data/rsna-2024-lumbar-spine-degenerative-classification/train_images\"\n",
    "\n",
    "patient_coords_dict = {\n",
    "    \"study_id\": [],\n",
    "    \"level\": [],\n",
    "    \"x\": [],\n",
    "    \"y\": [],\n",
    "    \"z\": []\n",
    "}\n",
    "\n",
    "for index, group in centers_per_study.groupby(\"study_id\"):\n",
    "    for row_index, row in group.iterrows():\n",
    "        dicom_slice_path = f\"{train_images_basepath}/{row['study_id']}/{row['series_id']}/{row['instance_number']}.dcm\"\n",
    "        dicom_slice = dcmread(dicom_slice_path)\n",
    "        coords = convert_coords_to_patient(row['x'], row['y'], dicom_slice)\n",
    "        \n",
    "        patient_coords_dict[\"study_id\"].append(row['study_id'])\n",
    "        patient_coords_dict[\"level\"].append(row['level'])\n",
    "        patient_coords_dict[\"x\"].append(coords[0])\n",
    "        patient_coords_dict[\"y\"].append(coords[1])\n",
    "        patient_coords_dict[\"z\"].append(coords[2])\n",
    "    \n",
    "patient_coords = pd.DataFrame.from_dict(patient_coords_dict)\n",
    "patient_coords"
   ],
   "id": "b3782397c5b906a7",
   "outputs": [
    {
     "data": {
      "text/plain": [
       "         study_id level         x          y           z\n",
       "0         4003253    L1  2.192236  57.393290 -373.897314\n",
       "1         4003253    L2  2.417129  55.910159 -405.982332\n",
       "2         4003253    L3  2.663579  53.663727 -441.036977\n",
       "3         4003253    L4  2.900401  54.755404 -475.276522\n",
       "4         4003253    L5 -1.697765  63.999043 -505.892668\n",
       "...           ...   ...       ...        ...         ...\n",
       "11844  4290709089    L2  1.119082  47.663407 -359.280225\n",
       "11845  4290709089    L3  0.473506  40.302511 -394.637869\n",
       "11846  4290709089    L4 -0.206997  39.813034 -429.821794\n",
       "11847  4290709089    L5 -0.924925  46.765941 -464.796865\n",
       "11848  4290709089    S1 -1.612741  66.485341 -494.556885\n",
       "\n",
       "[11849 rows x 5 columns]"
      ],
      "text/html": [
       "<div>\n",
       "<style scoped>\n",
       "    .dataframe tbody tr th:only-of-type {\n",
       "        vertical-align: middle;\n",
       "    }\n",
       "\n",
       "    .dataframe tbody tr th {\n",
       "        vertical-align: top;\n",
       "    }\n",
       "\n",
       "    .dataframe thead th {\n",
       "        text-align: right;\n",
       "    }\n",
       "</style>\n",
       "<table border=\"1\" class=\"dataframe\">\n",
       "  <thead>\n",
       "    <tr style=\"text-align: right;\">\n",
       "      <th></th>\n",
       "      <th>study_id</th>\n",
       "      <th>level</th>\n",
       "      <th>x</th>\n",
       "      <th>y</th>\n",
       "      <th>z</th>\n",
       "    </tr>\n",
       "  </thead>\n",
       "  <tbody>\n",
       "    <tr>\n",
       "      <th>0</th>\n",
       "      <td>4003253</td>\n",
       "      <td>L1</td>\n",
       "      <td>2.192236</td>\n",
       "      <td>57.393290</td>\n",
       "      <td>-373.897314</td>\n",
       "    </tr>\n",
       "    <tr>\n",
       "      <th>1</th>\n",
       "      <td>4003253</td>\n",
       "      <td>L2</td>\n",
       "      <td>2.417129</td>\n",
       "      <td>55.910159</td>\n",
       "      <td>-405.982332</td>\n",
       "    </tr>\n",
       "    <tr>\n",
       "      <th>2</th>\n",
       "      <td>4003253</td>\n",
       "      <td>L3</td>\n",
       "      <td>2.663579</td>\n",
       "      <td>53.663727</td>\n",
       "      <td>-441.036977</td>\n",
       "    </tr>\n",
       "    <tr>\n",
       "      <th>3</th>\n",
       "      <td>4003253</td>\n",
       "      <td>L4</td>\n",
       "      <td>2.900401</td>\n",
       "      <td>54.755404</td>\n",
       "      <td>-475.276522</td>\n",
       "    </tr>\n",
       "    <tr>\n",
       "      <th>4</th>\n",
       "      <td>4003253</td>\n",
       "      <td>L5</td>\n",
       "      <td>-1.697765</td>\n",
       "      <td>63.999043</td>\n",
       "      <td>-505.892668</td>\n",
       "    </tr>\n",
       "    <tr>\n",
       "      <th>...</th>\n",
       "      <td>...</td>\n",
       "      <td>...</td>\n",
       "      <td>...</td>\n",
       "      <td>...</td>\n",
       "      <td>...</td>\n",
       "    </tr>\n",
       "    <tr>\n",
       "      <th>11844</th>\n",
       "      <td>4290709089</td>\n",
       "      <td>L2</td>\n",
       "      <td>1.119082</td>\n",
       "      <td>47.663407</td>\n",
       "      <td>-359.280225</td>\n",
       "    </tr>\n",
       "    <tr>\n",
       "      <th>11845</th>\n",
       "      <td>4290709089</td>\n",
       "      <td>L3</td>\n",
       "      <td>0.473506</td>\n",
       "      <td>40.302511</td>\n",
       "      <td>-394.637869</td>\n",
       "    </tr>\n",
       "    <tr>\n",
       "      <th>11846</th>\n",
       "      <td>4290709089</td>\n",
       "      <td>L4</td>\n",
       "      <td>-0.206997</td>\n",
       "      <td>39.813034</td>\n",
       "      <td>-429.821794</td>\n",
       "    </tr>\n",
       "    <tr>\n",
       "      <th>11847</th>\n",
       "      <td>4290709089</td>\n",
       "      <td>L5</td>\n",
       "      <td>-0.924925</td>\n",
       "      <td>46.765941</td>\n",
       "      <td>-464.796865</td>\n",
       "    </tr>\n",
       "    <tr>\n",
       "      <th>11848</th>\n",
       "      <td>4290709089</td>\n",
       "      <td>S1</td>\n",
       "      <td>-1.612741</td>\n",
       "      <td>66.485341</td>\n",
       "      <td>-494.556885</td>\n",
       "    </tr>\n",
       "  </tbody>\n",
       "</table>\n",
       "<p>11849 rows × 5 columns</p>\n",
       "</div>"
      ]
     },
     "execution_count": 17,
     "metadata": {},
     "output_type": "execute_result"
    }
   ],
   "execution_count": 17
  },
  {
   "metadata": {
    "ExecuteTime": {
     "end_time": "2024-09-23T15:13:31.952549Z",
     "start_time": "2024-09-23T15:13:31.923457Z"
    }
   },
   "cell_type": "code",
   "source": "patient_coords.to_csv('../../data/SpineNet/coords_3d.csv', index=False)",
   "id": "a39142bfef40f99b",
   "outputs": [],
   "execution_count": 18
  },
  {
   "metadata": {
    "ExecuteTime": {
     "end_time": "2024-09-23T18:30:03.710501Z",
     "start_time": "2024-09-23T18:29:59.951067Z"
    }
   },
   "cell_type": "code",
   "source": [
    "patient_bounding_boxes_dict = {\n",
    "    \"study_id\": [],\n",
    "    \"level\": [],\n",
    "    \"x_min\": [],\n",
    "    \"y_min\": [],\n",
    "    \"z_min\": [],\n",
    "    \"x_max\": [],\n",
    "    \"y_max\": [],\n",
    "    \"z_max\": [],\n",
    "}\n",
    "\n",
    "for index, group in patient_coords.groupby(\"study_id\"):\n",
    "    ordered_group = group.sort_values(by=\"level\", ascending=True)\n",
    "    if len(ordered_group) != 6:\n",
    "        continue\n",
    "    for level_index in range(5):\n",
    "        patient_bounding_boxes_dict[\"study_id\"].append(ordered_group['study_id'].iloc[0])\n",
    "        level_label = ordered_group['level'].iloc[level_index].lower() + \"_\" + ordered_group['level'].iloc[level_index + 1] \n",
    "        patient_bounding_boxes_dict[\"level\"].append(level_label)\n",
    "        \n",
    "        # Middle vertebra points\n",
    "        pt_0 = np.array(ordered_group.iloc[level_index][[\"x\", \"y\", \"z\"]])\n",
    "        pt_1 = np.array(ordered_group.iloc[level_index + 1][[\"x\", \"y\", \"z\"]])\n",
    "        \n",
    "        # Distance vector to the next vertebra\n",
    "        d_vec = np.array(pt_0 - pt_1)\n",
    "        d_size = np.linalg.norm(d_vec)\n",
    "        d_unit = d_vec / d_size\n",
    "        \n",
    "        \n",
    "        # Get a pair of orthogonal vectors to find x and y boundary candidates\n",
    "        orth_1 = np.random.randn(3).astype(np.float64)\n",
    "        orth_1 = orth_1 - orth_1.dot(d_unit) * d_unit\n",
    "        orth_1 = orth_1 / np.linalg.norm(orth_1)\n",
    "        \n",
    "        orth_1 = orth_1.astype(np.float64)\n",
    "        d_unit = d_unit.astype(np.float64)\n",
    "        \n",
    "        orth_2 = np.cross(orth_1, d_unit)\n",
    "        orth_2 = orth_2.astype(np.float64)\n",
    "        \n",
    "        orth_1 *= d_size\n",
    "        orth_2 *= d_size\n",
    "        \n",
    "        # Get candidate points (10 of them, 2 per orthogonal per each vertebra center, and the centers themselves)\n",
    "        c_pts = np.array([pt - vec for pt in (pt_0, pt_1) for vec in (orth_1, orth_2)] + \n",
    "                         [pt + vec for pt in (pt_0, pt_1) for vec in (orth_1, orth_2)] +\n",
    "                         [pt_0, pt_1])\n",
    "        \n",
    "        # x_min and x_max are just the min and max from all this\n",
    "        x_min = np.min(c_pts[:, 0])\n",
    "        x_max = np.max(c_pts[:, 0])\n",
    "                \n",
    "        # y_max is going to be over the center ys\n",
    "        # And we're going to get y_min by getting y_min over c_pts and then extending the y_min over center ys\n",
    "        c_pts_y_min = np.min(c_pts[:, 1])\n",
    "        c_pts_y_max = np.max(c_pts[:, 1])\n",
    "\n",
    "        y_max = max(pt_0[1], pt_1[1])\n",
    "        y_min = min(pt_0[1], pt_1[1])\n",
    "        \n",
    "        y_max += abs(c_pts_y_max - y_max) * 2\n",
    "        y_min -= abs(c_pts_y_min - y_min) / 2\n",
    "        \n",
    "        # z_max and z_min will be the same as x_min and x_max\n",
    "        z_min = np.min(c_pts[:, 2])\n",
    "        z_max = np.max(c_pts[:, 2])    \n",
    "        \n",
    "        patient_bounding_boxes_dict[\"x_min\"].append(x_min)\n",
    "        patient_bounding_boxes_dict[\"y_min\"].append(y_min)\n",
    "        patient_bounding_boxes_dict[\"z_min\"].append(z_min)\n",
    "        patient_bounding_boxes_dict[\"x_max\"].append(x_max)\n",
    "        patient_bounding_boxes_dict[\"y_max\"].append(y_max)\n",
    "        patient_bounding_boxes_dict[\"z_max\"].append(z_max)\n",
    "\n",
    "patient_bounding_boxes = pd.DataFrame.from_dict(patient_bounding_boxes_dict)\n",
    "patient_bounding_boxes"
   ],
   "id": "572df26a1fc07fc0",
   "outputs": [
    {
     "data": {
      "text/plain": [
       "        study_id  level      x_min      y_min       z_min      x_max  \\\n",
       "0        4003253  l1_L2 -29.829393  39.916436 -407.478494  34.438757   \n",
       "1        4003253  l2_L3 -22.960396  41.006076 -442.830025  28.041104   \n",
       "2        4003253  l3_L4 -27.854268  38.410474 -476.141536  33.418249   \n",
       "3        4003253  l4_L5 -32.559214  40.005673 -516.058982  33.761850   \n",
       "4        4003253  l5_S1 -28.139596  53.241165 -548.836007  24.912645   \n",
       "...          ...    ...        ...        ...         ...        ...   \n",
       "9670  4290709089  l1_L2 -31.338473  32.218877 -369.266432  34.181214   \n",
       "9671  4290709089  l2_L3 -27.894917  26.373099 -400.029531  29.487504   \n",
       "9672  4290709089  l3_L4 -31.033451  24.400699 -430.578789  31.299960   \n",
       "9673  4290709089  l4_L5 -31.902367  24.653177 -471.186880  30.770446   \n",
       "9674  4290709089  l5_S1 -36.502550  32.180812 -513.710681  33.964884   \n",
       "\n",
       "           y_max       z_max  \n",
       "0     121.368184 -372.401152  \n",
       "1     106.540762 -404.189284  \n",
       "2     115.768414 -440.171964  \n",
       "3     122.997966 -465.110208  \n",
       "4     126.563647 -490.521556  \n",
       "...          ...         ...  \n",
       "9670  120.206545 -315.070584  \n",
       "9671  103.381058 -353.888563  \n",
       "9672  101.951853 -393.880875  \n",
       "9673  107.405369 -423.431779  \n",
       "9674  124.825860 -445.643070  \n",
       "\n",
       "[9675 rows x 8 columns]"
      ],
      "text/html": [
       "<div>\n",
       "<style scoped>\n",
       "    .dataframe tbody tr th:only-of-type {\n",
       "        vertical-align: middle;\n",
       "    }\n",
       "\n",
       "    .dataframe tbody tr th {\n",
       "        vertical-align: top;\n",
       "    }\n",
       "\n",
       "    .dataframe thead th {\n",
       "        text-align: right;\n",
       "    }\n",
       "</style>\n",
       "<table border=\"1\" class=\"dataframe\">\n",
       "  <thead>\n",
       "    <tr style=\"text-align: right;\">\n",
       "      <th></th>\n",
       "      <th>study_id</th>\n",
       "      <th>level</th>\n",
       "      <th>x_min</th>\n",
       "      <th>y_min</th>\n",
       "      <th>z_min</th>\n",
       "      <th>x_max</th>\n",
       "      <th>y_max</th>\n",
       "      <th>z_max</th>\n",
       "    </tr>\n",
       "  </thead>\n",
       "  <tbody>\n",
       "    <tr>\n",
       "      <th>0</th>\n",
       "      <td>4003253</td>\n",
       "      <td>l1_L2</td>\n",
       "      <td>-29.829393</td>\n",
       "      <td>39.916436</td>\n",
       "      <td>-407.478494</td>\n",
       "      <td>34.438757</td>\n",
       "      <td>121.368184</td>\n",
       "      <td>-372.401152</td>\n",
       "    </tr>\n",
       "    <tr>\n",
       "      <th>1</th>\n",
       "      <td>4003253</td>\n",
       "      <td>l2_L3</td>\n",
       "      <td>-22.960396</td>\n",
       "      <td>41.006076</td>\n",
       "      <td>-442.830025</td>\n",
       "      <td>28.041104</td>\n",
       "      <td>106.540762</td>\n",
       "      <td>-404.189284</td>\n",
       "    </tr>\n",
       "    <tr>\n",
       "      <th>2</th>\n",
       "      <td>4003253</td>\n",
       "      <td>l3_L4</td>\n",
       "      <td>-27.854268</td>\n",
       "      <td>38.410474</td>\n",
       "      <td>-476.141536</td>\n",
       "      <td>33.418249</td>\n",
       "      <td>115.768414</td>\n",
       "      <td>-440.171964</td>\n",
       "    </tr>\n",
       "    <tr>\n",
       "      <th>3</th>\n",
       "      <td>4003253</td>\n",
       "      <td>l4_L5</td>\n",
       "      <td>-32.559214</td>\n",
       "      <td>40.005673</td>\n",
       "      <td>-516.058982</td>\n",
       "      <td>33.761850</td>\n",
       "      <td>122.997966</td>\n",
       "      <td>-465.110208</td>\n",
       "    </tr>\n",
       "    <tr>\n",
       "      <th>4</th>\n",
       "      <td>4003253</td>\n",
       "      <td>l5_S1</td>\n",
       "      <td>-28.139596</td>\n",
       "      <td>53.241165</td>\n",
       "      <td>-548.836007</td>\n",
       "      <td>24.912645</td>\n",
       "      <td>126.563647</td>\n",
       "      <td>-490.521556</td>\n",
       "    </tr>\n",
       "    <tr>\n",
       "      <th>...</th>\n",
       "      <td>...</td>\n",
       "      <td>...</td>\n",
       "      <td>...</td>\n",
       "      <td>...</td>\n",
       "      <td>...</td>\n",
       "      <td>...</td>\n",
       "      <td>...</td>\n",
       "      <td>...</td>\n",
       "    </tr>\n",
       "    <tr>\n",
       "      <th>9670</th>\n",
       "      <td>4290709089</td>\n",
       "      <td>l1_L2</td>\n",
       "      <td>-31.338473</td>\n",
       "      <td>32.218877</td>\n",
       "      <td>-369.266432</td>\n",
       "      <td>34.181214</td>\n",
       "      <td>120.206545</td>\n",
       "      <td>-315.070584</td>\n",
       "    </tr>\n",
       "    <tr>\n",
       "      <th>9671</th>\n",
       "      <td>4290709089</td>\n",
       "      <td>l2_L3</td>\n",
       "      <td>-27.894917</td>\n",
       "      <td>26.373099</td>\n",
       "      <td>-400.029531</td>\n",
       "      <td>29.487504</td>\n",
       "      <td>103.381058</td>\n",
       "      <td>-353.888563</td>\n",
       "    </tr>\n",
       "    <tr>\n",
       "      <th>9672</th>\n",
       "      <td>4290709089</td>\n",
       "      <td>l3_L4</td>\n",
       "      <td>-31.033451</td>\n",
       "      <td>24.400699</td>\n",
       "      <td>-430.578789</td>\n",
       "      <td>31.299960</td>\n",
       "      <td>101.951853</td>\n",
       "      <td>-393.880875</td>\n",
       "    </tr>\n",
       "    <tr>\n",
       "      <th>9673</th>\n",
       "      <td>4290709089</td>\n",
       "      <td>l4_L5</td>\n",
       "      <td>-31.902367</td>\n",
       "      <td>24.653177</td>\n",
       "      <td>-471.186880</td>\n",
       "      <td>30.770446</td>\n",
       "      <td>107.405369</td>\n",
       "      <td>-423.431779</td>\n",
       "    </tr>\n",
       "    <tr>\n",
       "      <th>9674</th>\n",
       "      <td>4290709089</td>\n",
       "      <td>l5_S1</td>\n",
       "      <td>-36.502550</td>\n",
       "      <td>32.180812</td>\n",
       "      <td>-513.710681</td>\n",
       "      <td>33.964884</td>\n",
       "      <td>124.825860</td>\n",
       "      <td>-445.643070</td>\n",
       "    </tr>\n",
       "  </tbody>\n",
       "</table>\n",
       "<p>9675 rows × 8 columns</p>\n",
       "</div>"
      ]
     },
     "execution_count": 63,
     "metadata": {},
     "output_type": "execute_result"
    }
   ],
   "execution_count": 63
  },
  {
   "metadata": {
    "ExecuteTime": {
     "end_time": "2024-09-23T18:30:03.756753Z",
     "start_time": "2024-09-23T18:30:03.711504Z"
    }
   },
   "cell_type": "code",
   "source": "patient_bounding_boxes.to_csv('../../data/SpineNet/bounding_boxes_3d.csv', index=False)",
   "id": "a6e6e4386a85dc82",
   "outputs": [],
   "execution_count": 64
  },
  {
   "metadata": {},
   "cell_type": "code",
   "outputs": [],
   "execution_count": null,
   "source": "",
   "id": "216d6b0fac2a9d59"
  }
 ],
 "metadata": {
  "kernelspec": {
   "display_name": "Python 3",
   "language": "python",
   "name": "python3"
  },
  "language_info": {
   "codemirror_mode": {
    "name": "ipython",
    "version": 2
   },
   "file_extension": ".py",
   "mimetype": "text/x-python",
   "name": "python",
   "nbconvert_exporter": "python",
   "pygments_lexer": "ipython2",
   "version": "2.7.6"
  }
 },
 "nbformat": 4,
 "nbformat_minor": 5
}
