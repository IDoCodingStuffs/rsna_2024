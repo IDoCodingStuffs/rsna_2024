{
 "cells": [
  {
   "cell_type": "code",
   "execution_count": 1,
   "id": "1b0ad7a6",
   "metadata": {
    "execution": {
     "iopub.execute_input": "2024-07-05T21:25:26.916733Z",
     "iopub.status.busy": "2024-07-05T21:25:26.916417Z",
     "iopub.status.idle": "2024-07-05T21:25:26.926616Z",
     "shell.execute_reply": "2024-07-05T21:25:26.925902Z"
    },
    "papermill": {
     "duration": 0.020085,
     "end_time": "2024-07-05T21:25:26.928487",
     "exception": false,
     "start_time": "2024-07-05T21:25:26.908402",
     "status": "completed"
    },
    "tags": [],
    "ExecuteTime": {
     "end_time": "2024-07-09T22:48:23.615979Z",
     "start_time": "2024-07-09T22:48:23.614711Z"
    }
   },
   "outputs": [],
   "source": [
    "data_path = \"/kaggle/input/rsna-2024-lumbar-spine-degenerative-classification/\""
   ]
  },
  {
   "cell_type": "code",
   "execution_count": 2,
   "id": "1a0eba2e",
   "metadata": {
    "_cell_guid": "b1076dfc-b9ad-4769-8c92-a6c4dae69d19",
    "_uuid": "8f2839f25d086af736a60e9eeb907d3b93b6e0e5",
    "execution": {
     "iopub.execute_input": "2024-07-05T21:25:26.941720Z",
     "iopub.status.busy": "2024-07-05T21:25:26.941455Z",
     "iopub.status.idle": "2024-07-05T21:25:27.715357Z",
     "shell.execute_reply": "2024-07-05T21:25:27.714398Z"
    },
    "papermill": {
     "duration": 0.782632,
     "end_time": "2024-07-05T21:25:27.717305",
     "exception": false,
     "start_time": "2024-07-05T21:25:26.934673",
     "status": "completed"
    },
    "tags": []
   },
   "outputs": [
    {
     "data": {
      "text/html": [
       "<div>\n",
       "<style scoped>\n",
       "    .dataframe tbody tr th:only-of-type {\n",
       "        vertical-align: middle;\n",
       "    }\n",
       "\n",
       "    .dataframe tbody tr th {\n",
       "        vertical-align: top;\n",
       "    }\n",
       "\n",
       "    .dataframe thead th {\n",
       "        text-align: right;\n",
       "    }\n",
       "</style>\n",
       "<table border=\"1\" class=\"dataframe\">\n",
       "  <thead>\n",
       "    <tr style=\"text-align: right;\">\n",
       "      <th></th>\n",
       "      <th>study_id</th>\n",
       "      <th>series_id</th>\n",
       "      <th>series_description</th>\n",
       "    </tr>\n",
       "  </thead>\n",
       "  <tbody>\n",
       "    <tr>\n",
       "      <th>0</th>\n",
       "      <td>44036939</td>\n",
       "      <td>2828203845</td>\n",
       "      <td>Sagittal T1</td>\n",
       "    </tr>\n",
       "    <tr>\n",
       "      <th>1</th>\n",
       "      <td>44036939</td>\n",
       "      <td>3481971518</td>\n",
       "      <td>Axial T2</td>\n",
       "    </tr>\n",
       "    <tr>\n",
       "      <th>2</th>\n",
       "      <td>44036939</td>\n",
       "      <td>3844393089</td>\n",
       "      <td>Sagittal T2/STIR</td>\n",
       "    </tr>\n",
       "  </tbody>\n",
       "</table>\n",
       "</div>"
      ],
      "text/plain": [
       "   study_id   series_id series_description\n",
       "0  44036939  2828203845        Sagittal T1\n",
       "1  44036939  3481971518           Axial T2\n",
       "2  44036939  3844393089   Sagittal T2/STIR"
      ]
     },
     "execution_count": 2,
     "metadata": {},
     "output_type": "execute_result"
    }
   ],
   "source": [
    "import pandas as pd\n",
    "\n",
    "def retrieve_test_data(data_path):\n",
    "    test_df = pd.read_csv(data_path + 'test_series_descriptions.csv')\n",
    "\n",
    "    return test_df\n",
    "\n",
    "retrieve_test_data(data_path)"
   ]
  },
  {
   "cell_type": "code",
   "execution_count": 3,
   "id": "6f8e561f",
   "metadata": {
    "execution": {
     "iopub.execute_input": "2024-07-05T21:25:27.731507Z",
     "iopub.status.busy": "2024-07-05T21:25:27.731214Z",
     "iopub.status.idle": "2024-07-05T21:25:27.736357Z",
     "shell.execute_reply": "2024-07-05T21:25:27.735513Z"
    },
    "papermill": {
     "duration": 0.014439,
     "end_time": "2024-07-05T21:25:27.738394",
     "exception": false,
     "start_time": "2024-07-05T21:25:27.723955",
     "status": "completed"
    },
    "tags": []
   },
   "outputs": [],
   "source": [
    "import os\n",
    "\n",
    "def retrieve_image_paths(base_path, study_id, series_id):\n",
    "    series_dir = os.path.join(base_path, str(study_id), str(series_id))\n",
    "    images = os.listdir(series_dir)\n",
    "    image_paths = [os.path.join(series_dir, img) for img in images]\n",
    "    return image_paths"
   ]
  },
  {
   "cell_type": "code",
   "execution_count": 4,
   "id": "59b25d9a",
   "metadata": {
    "execution": {
     "iopub.execute_input": "2024-07-05T21:25:27.752995Z",
     "iopub.status.busy": "2024-07-05T21:25:27.752285Z",
     "iopub.status.idle": "2024-07-05T21:25:27.946611Z",
     "shell.execute_reply": "2024-07-05T21:25:27.945836Z"
    },
    "papermill": {
     "duration": 0.204305,
     "end_time": "2024-07-05T21:25:27.948953",
     "exception": false,
     "start_time": "2024-07-05T21:25:27.744648",
     "status": "completed"
    },
    "tags": []
   },
   "outputs": [],
   "source": [
    "import pydicom\n",
    "\n",
    "def load_dicom(path):\n",
    "    dicom = pydicom.read_file(path)\n",
    "    data = dicom.pixel_array\n",
    "    data = data - np.min(data)\n",
    "    if np.max(data) != 0:\n",
    "        data = data / np.max(data)\n",
    "    data = (data * 255).astype(np.uint8)\n",
    "    return data"
   ]
  },
  {
   "cell_type": "code",
   "execution_count": 5,
   "id": "2729f379",
   "metadata": {
    "execution": {
     "iopub.execute_input": "2024-07-05T21:25:27.963561Z",
     "iopub.status.busy": "2024-07-05T21:25:27.963263Z",
     "iopub.status.idle": "2024-07-05T21:25:31.640219Z",
     "shell.execute_reply": "2024-07-05T21:25:31.639232Z"
    },
    "papermill": {
     "duration": 3.687028,
     "end_time": "2024-07-05T21:25:31.642656",
     "exception": false,
     "start_time": "2024-07-05T21:25:27.955628",
     "status": "completed"
    },
    "tags": []
   },
   "outputs": [],
   "source": [
    "import numpy as np\n",
    "from enum import Enum\n",
    "from torch.utils.data import Dataset, DataLoader\n",
    "\n",
    "CONDITIONS = {\n",
    "    \"Sagittal T2/STIR\": [\"Spinal Canal Stenosis\"],\n",
    "    \"Axial T2\": [\"Left Subarticular Stenosis\", \"Right Subarticular Stenosis\"],\n",
    "    \"Sagittal T1\": [\"Left Neural Foraminal Narrowing\", \"Right Neural Foraminal Narrowing\"],\n",
    "}\n",
    "MAX_IMAGES_IN_SERIES = {\n",
    "    \"Sagittal T2/STIR\": 29,\n",
    "    \"Axial T2\": 192,\n",
    "    \"Sagittal T1\": 38,\n",
    "}\n",
    "\n",
    "\n",
    "class SeriesDataType(Enum):\n",
    "    SEQUENTIAL_VARIABLE_LENGTH = 1\n",
    "    SEQUENTIAL_VARIABLE_LENGTH_WITH_CLS = 2\n",
    "    SEQUENTIAL_FIXED_LENGTH = 3\n",
    "    CUBE_3D = 4\n",
    "\n",
    "\n",
    "class SeriesLevelTestset(Dataset):\n",
    "    def __init__(self,\n",
    "                 base_path: str,\n",
    "                 dataframe: pd.DataFrame,\n",
    "                 data_type=SeriesDataType.SEQUENTIAL_FIXED_LENGTH,\n",
    "                 data_series=\"Sagittal T2/STIR\",\n",
    "                 transform=None):\n",
    "        self.base_path = base_path\n",
    "        self.type = data_type\n",
    "        self.data_series = data_series\n",
    "\n",
    "        self.dataframe = (dataframe[['study_id', \"series_id\"]]\n",
    "                          .drop_duplicates())\n",
    "        self.series = self.dataframe[['study_id', \"series_id\"]].drop_duplicates().reset_index(drop=True)\n",
    "\n",
    "        self.transform = transform\n",
    "\n",
    "\n",
    "    def __len__(self):\n",
    "        return len(self.series)\n",
    "\n",
    "    def __getitem__(self, index):\n",
    "        curr = self.series.iloc[index]\n",
    "        image_paths = retrieve_image_paths(self.base_path, curr[\"study_id\"], curr[\"series_id\"])\n",
    "        image_paths = sorted(image_paths, key=lambda x: self._get_image_index(x))\n",
    "\n",
    "        images = np.array([np.array(self.transform(image=load_dicom(image_path))['image']) if self.transform\n",
    "                           else load_dicom(image_path) for image_path in image_paths])\n",
    "\n",
    "        if self.type == SeriesDataType.SEQUENTIAL_FIXED_LENGTH:\n",
    "            front_buffer = (MAX_IMAGES_IN_SERIES[self.data_series] - len(images)) // 2\n",
    "            rear_buffer = (MAX_IMAGES_IN_SERIES[self.data_series] - len(images)) // 2 + (\n",
    "                        (MAX_IMAGES_IN_SERIES[self.data_series] - len(images)) % 2)\n",
    "            if len(images) <= MAX_IMAGES_IN_SERIES[self.data_series]:\n",
    "                images = np.pad(images, ((front_buffer, rear_buffer), (0, 0), (0, 0)))\n",
    "            else:\n",
    "                diff = len(images) - MAX_IMAGES_IN_SERIES[self.data_series]\n",
    "                images = images[diff // 2: diff // 2 + MAX_IMAGES_IN_SERIES[self.data_series]]\n",
    "            \n",
    "        elif self.type == SeriesDataType.SEQUENTIAL_VARIABLE_LENGTH_WITH_CLS:\n",
    "            images = np.pad(images, ((1, 0), (0, 0), (0, 0)))\n",
    "\n",
    "        elif self.type == SeriesDataType.CUBE_3D:\n",
    "            width = len(images[0])\n",
    "            images = np.pad(images, ((0, width - len(images)), (0, 0), (0, 0)))\n",
    "\n",
    "        return images, curr[\"study_id\"]\n",
    "\n",
    "\n",
    "    def _get_image_index(self, image_path):\n",
    "        return int(image_path.split(\"/\")[-1].split(\"\\\\\")[-1].replace(\".dcm\", \"\"))"
   ]
  },
  {
   "cell_type": "code",
   "execution_count": 6,
   "id": "dbdeb1fc",
   "metadata": {
    "execution": {
     "iopub.execute_input": "2024-07-05T21:25:31.657667Z",
     "iopub.status.busy": "2024-07-05T21:25:31.657228Z",
     "iopub.status.idle": "2024-07-05T21:25:31.663296Z",
     "shell.execute_reply": "2024-07-05T21:25:31.662534Z"
    },
    "papermill": {
     "duration": 0.015403,
     "end_time": "2024-07-05T21:25:31.665327",
     "exception": false,
     "start_time": "2024-07-05T21:25:31.649924",
     "status": "completed"
    },
    "tags": []
   },
   "outputs": [],
   "source": [
    "def create_series_level_testset_and_loader(df: pd.DataFrame,\n",
    "                                             series_description: str,\n",
    "                                             transform,\n",
    "                                             base_path: str,\n",
    "                                             batch_size=1,\n",
    "                                             num_workers=0,\n",
    "                                             data_type=SeriesDataType.SEQUENTIAL_FIXED_LENGTH):\n",
    "    test_df = df[df['series_description'] == series_description]\n",
    "    \n",
    "    testset = SeriesLevelTestset(base_path, test_df, transform=transform, data_type=data_type, data_series=series_description)\n",
    "    test_loader = DataLoader(testset, batch_size=batch_size, shuffle=False, num_workers=num_workers)\n",
    "\n",
    "    return testset, test_loader"
   ]
  },
  {
   "cell_type": "code",
   "execution_count": 7,
   "id": "1267dd43",
   "metadata": {
    "execution": {
     "iopub.execute_input": "2024-07-05T21:25:31.682496Z",
     "iopub.status.busy": "2024-07-05T21:25:31.682092Z",
     "iopub.status.idle": "2024-07-05T21:25:33.270802Z",
     "shell.execute_reply": "2024-07-05T21:25:33.269842Z"
    },
    "papermill": {
     "duration": 1.600616,
     "end_time": "2024-07-05T21:25:33.273860",
     "exception": false,
     "start_time": "2024-07-05T21:25:31.673244",
     "status": "completed"
    },
    "tags": []
   },
   "outputs": [],
   "source": [
    "import albumentations as A\n",
    "\n",
    "transform = A.Compose([\n",
    "    A.Resize(384,384),\n",
    "    A.Normalize(mean=0.5, std=0.5),\n",
    "])"
   ]
  },
  {
   "cell_type": "code",
   "execution_count": 8,
   "id": "f07bd0c1",
   "metadata": {
    "execution": {
     "iopub.execute_input": "2024-07-05T21:25:33.288392Z",
     "iopub.status.busy": "2024-07-05T21:25:33.287947Z",
     "iopub.status.idle": "2024-07-05T21:25:33.312259Z",
     "shell.execute_reply": "2024-07-05T21:25:33.311365Z"
    },
    "papermill": {
     "duration": 0.033498,
     "end_time": "2024-07-05T21:25:33.314191",
     "exception": false,
     "start_time": "2024-07-05T21:25:33.280693",
     "status": "completed"
    },
    "tags": []
   },
   "outputs": [],
   "source": [
    "data = retrieve_test_data(data_path)\n",
    "\n",
    "testset_t1, test_loader_t1 = create_series_level_testset_and_loader(data, \"Sagittal T1\", transform, \n",
    "                                                                    os.path.join(data_path, \"test_images\"))\n",
    "testset_t2, test_loader_t2 = create_series_level_testset_and_loader(data, \"Axial T2\", transform, \n",
    "                                                                    os.path.join(data_path, \"test_images\"))\n",
    "testset_t2stir, test_loader_t2stir = create_series_level_testset_and_loader(data, \"Sagittal T2/STIR\", transform, \n",
    "                                                                    os.path.join(data_path, \"test_images\"))"
   ]
  },
  {
   "cell_type": "code",
   "execution_count": 9,
   "id": "a998d2dc",
   "metadata": {
    "execution": {
     "iopub.execute_input": "2024-07-05T21:25:33.328008Z",
     "iopub.status.busy": "2024-07-05T21:25:33.327716Z",
     "iopub.status.idle": "2024-07-05T21:25:35.907073Z",
     "shell.execute_reply": "2024-07-05T21:25:35.906243Z"
    },
    "papermill": {
     "duration": 2.588952,
     "end_time": "2024-07-05T21:25:35.909521",
     "exception": false,
     "start_time": "2024-07-05T21:25:33.320569",
     "status": "completed"
    },
    "tags": []
   },
   "outputs": [],
   "source": [
    "import torch.nn as nn\n",
    "import timm\n",
    "\n",
    "class CNN_Model_Multichannel(nn.Module):\n",
    "    def __init__(self, backbone=\"tf_efficientnetv2_b3\", in_chans=29, num_levels=5, pretrained=False):\n",
    "        super(CNN_Model_Multichannel, self).__init__()\n",
    "\n",
    "        self.num_levels = num_levels\n",
    "        self.encoder = timm.create_model(\n",
    "            backbone,\n",
    "            num_classes=CONFIG[\"out_dim\"] * self.num_levels,\n",
    "            features_only=False,\n",
    "            drop_rate=CONFIG[\"drop_rate\"],\n",
    "            drop_path_rate=CONFIG[\"drop_path_rate\"],\n",
    "            pretrained=pretrained,\n",
    "            # !TODO: Refactor\n",
    "            in_chans=CONFIG[\"in_chans\"] * in_chans,\n",
    "        )\n",
    "\n",
    "    def forward(self, x):\n",
    "        return self.encoder(x).reshape((-1, self.num_levels, 3))"
   ]
  },
  {
   "cell_type": "code",
   "execution_count": 10,
   "id": "fe1cd2c0",
   "metadata": {
    "execution": {
     "iopub.execute_input": "2024-07-05T21:25:35.924540Z",
     "iopub.status.busy": "2024-07-05T21:25:35.924209Z",
     "iopub.status.idle": "2024-07-05T21:25:35.990403Z",
     "shell.execute_reply": "2024-07-05T21:25:35.989542Z"
    },
    "papermill": {
     "duration": 0.076284,
     "end_time": "2024-07-05T21:25:35.992340",
     "exception": false,
     "start_time": "2024-07-05T21:25:35.916056",
     "status": "completed"
    },
    "tags": []
   },
   "outputs": [],
   "source": [
    "import torch\n",
    "device = torch.device(\"cuda\") if torch.cuda.is_available() else \"cpu\""
   ]
  },
  {
   "cell_type": "code",
   "execution_count": 11,
   "id": "6e47f606",
   "metadata": {
    "execution": {
     "iopub.execute_input": "2024-07-05T21:25:36.006878Z",
     "iopub.status.busy": "2024-07-05T21:25:36.006589Z",
     "iopub.status.idle": "2024-07-05T21:25:37.992669Z",
     "shell.execute_reply": "2024-07-05T21:25:37.991845Z"
    },
    "papermill": {
     "duration": 1.996011,
     "end_time": "2024-07-05T21:25:37.994961",
     "exception": false,
     "start_time": "2024-07-05T21:25:35.998950",
     "status": "completed"
    },
    "tags": []
   },
   "outputs": [],
   "source": [
    "t1_model = torch.load(\"/kaggle/input/rsna-2024/pytorch/efficientnet_b4_multichannel/1/efficientnet_b4_multichannel_t1_95.pt\").to(device)\n",
    "t2_model = torch.load(\"/kaggle/input/rsna-2024/pytorch/efficientnet_b4_multichannel/1/efficientnet_b4_multichannel_t2_85.pt\").to(device)"
   ]
  },
  {
   "cell_type": "code",
   "execution_count": 12,
   "id": "c837bf24",
   "metadata": {
    "execution": {
     "iopub.execute_input": "2024-07-05T21:25:38.009173Z",
     "iopub.status.busy": "2024-07-05T21:25:38.008874Z",
     "iopub.status.idle": "2024-07-05T21:25:38.014599Z",
     "shell.execute_reply": "2024-07-05T21:25:38.013825Z"
    },
    "papermill": {
     "duration": 0.015053,
     "end_time": "2024-07-05T21:25:38.016575",
     "exception": false,
     "start_time": "2024-07-05T21:25:38.001522",
     "status": "completed"
    },
    "tags": []
   },
   "outputs": [],
   "source": [
    "CONDITIONS = {\n",
    "    \"Sagittal T2/STIR\": [\"spinal_canal_stenosis\"],\n",
    "    \"Axial T2\": [\"left_subarticular_stenosis\", \"right_subarticular_stenosis\"],\n",
    "    \"Sagittal T1\": [\"left_neural_foraminal_narrowing\", \"right_neural_foraminal_narrowing\"],\n",
    "}\n",
    "\n",
    "LEVELS = [\"l1_l2\", \"l2_l3\", \"l3_l4\", \"l4_l5\", \"l5_s1\"]\n",
    "\n",
    "results_df = pd.DataFrame({\"row_id\":[], \"normal_mild\": [], \"moderate\": [], \"severe\": []})"
   ]
  },
  {
   "cell_type": "code",
   "execution_count": 13,
   "id": "af890960",
   "metadata": {
    "execution": {
     "iopub.execute_input": "2024-07-05T21:25:38.030117Z",
     "iopub.status.busy": "2024-07-05T21:25:38.029847Z",
     "iopub.status.idle": "2024-07-05T21:25:38.033829Z",
     "shell.execute_reply": "2024-07-05T21:25:38.032980Z"
    },
    "papermill": {
     "duration": 0.01282,
     "end_time": "2024-07-05T21:25:38.035639",
     "exception": false,
     "start_time": "2024-07-05T21:25:38.022819",
     "status": "completed"
    },
    "tags": []
   },
   "outputs": [],
   "source": [
    "softmax = nn.Softmax(dim=2)"
   ]
  },
  {
   "cell_type": "code",
   "execution_count": 14,
   "id": "321f4f74",
   "metadata": {
    "execution": {
     "iopub.execute_input": "2024-07-05T21:25:38.049136Z",
     "iopub.status.busy": "2024-07-05T21:25:38.048865Z",
     "iopub.status.idle": "2024-07-05T21:25:38.054608Z",
     "shell.execute_reply": "2024-07-05T21:25:38.053692Z"
    },
    "papermill": {
     "duration": 0.014618,
     "end_time": "2024-07-05T21:25:38.056389",
     "exception": false,
     "start_time": "2024-07-05T21:25:38.041771",
     "status": "completed"
    },
    "tags": []
   },
   "outputs": [
    {
     "data": {
      "text/plain": [
       "(1, 1)"
      ]
     },
     "execution_count": 14,
     "metadata": {},
     "output_type": "execute_result"
    }
   ],
   "source": [
    "len(test_loader_t1), len(testset_t1)"
   ]
  },
  {
   "cell_type": "code",
   "execution_count": 15,
   "id": "783e965a",
   "metadata": {
    "execution": {
     "iopub.execute_input": "2024-07-05T21:25:38.070193Z",
     "iopub.status.busy": "2024-07-05T21:25:38.069926Z",
     "iopub.status.idle": "2024-07-05T21:25:38.077815Z",
     "shell.execute_reply": "2024-07-05T21:25:38.077000Z"
    },
    "papermill": {
     "duration": 0.016956,
     "end_time": "2024-07-05T21:25:38.079823",
     "exception": false,
     "start_time": "2024-07-05T21:25:38.062867",
     "status": "completed"
    },
    "tags": []
   },
   "outputs": [
    {
     "data": {
      "text/html": [
       "<div>\n",
       "<style scoped>\n",
       "    .dataframe tbody tr th:only-of-type {\n",
       "        vertical-align: middle;\n",
       "    }\n",
       "\n",
       "    .dataframe tbody tr th {\n",
       "        vertical-align: top;\n",
       "    }\n",
       "\n",
       "    .dataframe thead th {\n",
       "        text-align: right;\n",
       "    }\n",
       "</style>\n",
       "<table border=\"1\" class=\"dataframe\">\n",
       "  <thead>\n",
       "    <tr style=\"text-align: right;\">\n",
       "      <th></th>\n",
       "      <th>study_id</th>\n",
       "      <th>series_id</th>\n",
       "    </tr>\n",
       "  </thead>\n",
       "  <tbody>\n",
       "    <tr>\n",
       "      <th>0</th>\n",
       "      <td>44036939</td>\n",
       "      <td>2828203845</td>\n",
       "    </tr>\n",
       "  </tbody>\n",
       "</table>\n",
       "</div>"
      ],
      "text/plain": [
       "   study_id   series_id\n",
       "0  44036939  2828203845"
      ]
     },
     "execution_count": 15,
     "metadata": {},
     "output_type": "execute_result"
    }
   ],
   "source": [
    "testset_t1.dataframe"
   ]
  },
  {
   "cell_type": "code",
   "execution_count": 16,
   "id": "20640a0b",
   "metadata": {
    "execution": {
     "iopub.execute_input": "2024-07-05T21:25:38.094738Z",
     "iopub.status.busy": "2024-07-05T21:25:38.094453Z",
     "iopub.status.idle": "2024-07-05T21:25:39.664931Z",
     "shell.execute_reply": "2024-07-05T21:25:39.663984Z"
    },
    "papermill": {
     "duration": 1.581085,
     "end_time": "2024-07-05T21:25:39.667500",
     "exception": false,
     "start_time": "2024-07-05T21:25:38.086415",
     "status": "completed"
    },
    "tags": []
   },
   "outputs": [
    {
     "name": "stderr",
     "output_type": "stream",
     "text": [
      "/tmp/ipykernel_23/3625421379.py:10: FutureWarning: The behavior of DataFrame concatenation with empty or all-NA entries is deprecated. In a future version, this will no longer exclude empty or all-NA columns when determining the result dtypes. To retain the old behavior, exclude the relevant entries before the concat operation.\n",
      "  results_df = results_df._append({\"row_id\": row_id, \"normal_mild\": level[0], \"moderate\": level[1], \"severe\": level[2]}, ignore_index=True)\n"
     ]
    }
   ],
   "source": [
    "with torch.no_grad():\n",
    "    t1_model.eval()\n",
    "\n",
    "    for images, study_id in test_loader_t1:\n",
    "        output = t1_model(images.to(device))\n",
    "        output = softmax(output)\n",
    "        output = output.detach().cpu().numpy()[0]\n",
    "        for index, level in enumerate(output):\n",
    "            row_id = f\"{study_id.item()}_{CONDITIONS['Sagittal T1'][index % 2]}_{LEVELS[index // 2]}\"\n",
    "            results_df = results_df._append({\"row_id\": row_id, \"normal_mild\": level[0], \"moderate\": level[1], \"severe\": level[2]}, ignore_index=True)"
   ]
  },
  {
   "cell_type": "code",
   "execution_count": 17,
   "id": "092117c5",
   "metadata": {
    "execution": {
     "iopub.execute_input": "2024-07-05T21:25:39.682618Z",
     "iopub.status.busy": "2024-07-05T21:25:39.682312Z",
     "iopub.status.idle": "2024-07-05T21:25:40.378911Z",
     "shell.execute_reply": "2024-07-05T21:25:40.378120Z"
    },
    "papermill": {
     "duration": 0.706733,
     "end_time": "2024-07-05T21:25:40.381261",
     "exception": false,
     "start_time": "2024-07-05T21:25:39.674528",
     "status": "completed"
    },
    "tags": []
   },
   "outputs": [],
   "source": [
    "with torch.no_grad():\n",
    "    t2_model.eval()\n",
    "\n",
    "    for images, study_id in test_loader_t2:\n",
    "        output = t2_model(images.to(device))\n",
    "        output = softmax(output)\n",
    "        output = output.detach().cpu().numpy()[0]\n",
    "        for index, level in enumerate(output):\n",
    "            row_id = f\"{study_id.item()}_{CONDITIONS['Axial T2'][index % 2]}_{LEVELS[index // 2]}\"\n",
    "            results_df = results_df._append({\"row_id\": row_id, \"normal_mild\": level[0], \"moderate\": level[1], \"severe\": level[2]}, ignore_index=True)"
   ]
  },
  {
   "cell_type": "code",
   "execution_count": 18,
   "id": "a01ab4bf",
   "metadata": {
    "execution": {
     "iopub.execute_input": "2024-07-05T21:25:40.396105Z",
     "iopub.status.busy": "2024-07-05T21:25:40.395776Z",
     "iopub.status.idle": "2024-07-05T21:25:41.160391Z",
     "shell.execute_reply": "2024-07-05T21:25:41.159569Z"
    },
    "papermill": {
     "duration": 0.774533,
     "end_time": "2024-07-05T21:25:41.162755",
     "exception": false,
     "start_time": "2024-07-05T21:25:40.388222",
     "status": "completed"
    },
    "tags": []
   },
   "outputs": [],
   "source": [
    "class CNN_Model_Multichannel(nn.Module):\n",
    "    def __init__(self, backbone=\"tf_efficientnetv2_b3\", in_chans=29, num_levels=5, pretrained=False):\n",
    "        super(CNN_Model_Multichannel, self).__init__()\n",
    "\n",
    "        self.encoder = timm.create_model(\n",
    "            backbone,\n",
    "            num_classes=CONFIG[\"out_dim\"] * 5,\n",
    "            features_only=False,\n",
    "            drop_rate=CONFIG[\"drop_rate\"],\n",
    "            drop_path_rate=CONFIG[\"drop_path_rate\"],\n",
    "            pretrained=pretrained,\n",
    "            # !TODO: Refactor\n",
    "            in_chans=CONFIG[\"in_chans\"] * in_chans,\n",
    "        )\n",
    "\n",
    "    def forward(self, x):\n",
    "        return self.encoder(x).reshape((-1, 5, 3))\n",
    "\n",
    "t2stir_model = torch.load(\"/kaggle/input/rsna-2024/pytorch/efficientnet_b4_multichannel/1/efficientnet_b4_multichannel_t2stir_100.pt\").to(device)"
   ]
  },
  {
   "cell_type": "code",
   "execution_count": 19,
   "id": "f9125af8",
   "metadata": {
    "execution": {
     "iopub.execute_input": "2024-07-05T21:25:41.177776Z",
     "iopub.status.busy": "2024-07-05T21:25:41.177456Z",
     "iopub.status.idle": "2024-07-05T21:25:42.384022Z",
     "shell.execute_reply": "2024-07-05T21:25:42.383001Z"
    },
    "papermill": {
     "duration": 1.217596,
     "end_time": "2024-07-05T21:25:42.387334",
     "exception": false,
     "start_time": "2024-07-05T21:25:41.169738",
     "status": "completed"
    },
    "tags": []
   },
   "outputs": [],
   "source": [
    "with torch.no_grad():\n",
    "    t2stir_model.eval()\n",
    "\n",
    "    for images, study_id in test_loader_t2stir:\n",
    "        output = t2stir_model(images.to(device))\n",
    "        output = softmax(output)\n",
    "        output = output.detach().cpu().numpy()[0]\n",
    "        for index, level in enumerate(output):\n",
    "            row_id = f\"{study_id.item()}_{CONDITIONS['Sagittal T2/STIR'][0]}_{LEVELS[index]}\"\n",
    "            results_df = results_df._append({\"row_id\": row_id, \"normal_mild\": level[0], \"moderate\": level[1], \"severe\": level[2]}, ignore_index=True)"
   ]
  },
  {
   "cell_type": "code",
   "execution_count": 20,
   "id": "e35e47c8",
   "metadata": {
    "execution": {
     "iopub.execute_input": "2024-07-05T21:25:42.413475Z",
     "iopub.status.busy": "2024-07-05T21:25:42.413128Z",
     "iopub.status.idle": "2024-07-05T21:25:42.428923Z",
     "shell.execute_reply": "2024-07-05T21:25:42.427853Z"
    },
    "papermill": {
     "duration": 0.030943,
     "end_time": "2024-07-05T21:25:42.431352",
     "exception": false,
     "start_time": "2024-07-05T21:25:42.400409",
     "status": "completed"
    },
    "tags": []
   },
   "outputs": [
    {
     "data": {
      "text/html": [
       "<div>\n",
       "<style scoped>\n",
       "    .dataframe tbody tr th:only-of-type {\n",
       "        vertical-align: middle;\n",
       "    }\n",
       "\n",
       "    .dataframe tbody tr th {\n",
       "        vertical-align: top;\n",
       "    }\n",
       "\n",
       "    .dataframe thead th {\n",
       "        text-align: right;\n",
       "    }\n",
       "</style>\n",
       "<table border=\"1\" class=\"dataframe\">\n",
       "  <thead>\n",
       "    <tr style=\"text-align: right;\">\n",
       "      <th></th>\n",
       "      <th>row_id</th>\n",
       "      <th>normal_mild</th>\n",
       "      <th>moderate</th>\n",
       "      <th>severe</th>\n",
       "    </tr>\n",
       "  </thead>\n",
       "  <tbody>\n",
       "    <tr>\n",
       "      <th>0</th>\n",
       "      <td>44036939_left_neural_foraminal_narrowing_l1_l2</td>\n",
       "      <td>0.934461</td>\n",
       "      <td>0.060538</td>\n",
       "      <td>0.005001</td>\n",
       "    </tr>\n",
       "    <tr>\n",
       "      <th>1</th>\n",
       "      <td>44036939_right_neural_foraminal_narrowing_l1_l2</td>\n",
       "      <td>0.708167</td>\n",
       "      <td>0.271924</td>\n",
       "      <td>0.019909</td>\n",
       "    </tr>\n",
       "    <tr>\n",
       "      <th>2</th>\n",
       "      <td>44036939_left_neural_foraminal_narrowing_l2_l3</td>\n",
       "      <td>0.637843</td>\n",
       "      <td>0.359019</td>\n",
       "      <td>0.003138</td>\n",
       "    </tr>\n",
       "    <tr>\n",
       "      <th>3</th>\n",
       "      <td>44036939_right_neural_foraminal_narrowing_l2_l3</td>\n",
       "      <td>0.700618</td>\n",
       "      <td>0.298546</td>\n",
       "      <td>0.000836</td>\n",
       "    </tr>\n",
       "    <tr>\n",
       "      <th>4</th>\n",
       "      <td>44036939_left_neural_foraminal_narrowing_l3_l4</td>\n",
       "      <td>0.353530</td>\n",
       "      <td>0.634238</td>\n",
       "      <td>0.012231</td>\n",
       "    </tr>\n",
       "    <tr>\n",
       "      <th>5</th>\n",
       "      <td>44036939_right_neural_foraminal_narrowing_l3_l4</td>\n",
       "      <td>0.469407</td>\n",
       "      <td>0.528294</td>\n",
       "      <td>0.002298</td>\n",
       "    </tr>\n",
       "    <tr>\n",
       "      <th>6</th>\n",
       "      <td>44036939_left_neural_foraminal_narrowing_l4_l5</td>\n",
       "      <td>0.383200</td>\n",
       "      <td>0.525499</td>\n",
       "      <td>0.091301</td>\n",
       "    </tr>\n",
       "    <tr>\n",
       "      <th>7</th>\n",
       "      <td>44036939_right_neural_foraminal_narrowing_l4_l5</td>\n",
       "      <td>0.618387</td>\n",
       "      <td>0.345188</td>\n",
       "      <td>0.036426</td>\n",
       "    </tr>\n",
       "    <tr>\n",
       "      <th>8</th>\n",
       "      <td>44036939_left_neural_foraminal_narrowing_l5_s1</td>\n",
       "      <td>0.211193</td>\n",
       "      <td>0.359611</td>\n",
       "      <td>0.429197</td>\n",
       "    </tr>\n",
       "    <tr>\n",
       "      <th>9</th>\n",
       "      <td>44036939_right_neural_foraminal_narrowing_l5_s1</td>\n",
       "      <td>0.215729</td>\n",
       "      <td>0.073193</td>\n",
       "      <td>0.711077</td>\n",
       "    </tr>\n",
       "    <tr>\n",
       "      <th>10</th>\n",
       "      <td>44036939_left_subarticular_stenosis_l1_l2</td>\n",
       "      <td>0.695790</td>\n",
       "      <td>0.301320</td>\n",
       "      <td>0.002890</td>\n",
       "    </tr>\n",
       "    <tr>\n",
       "      <th>11</th>\n",
       "      <td>44036939_right_subarticular_stenosis_l1_l2</td>\n",
       "      <td>0.563781</td>\n",
       "      <td>0.435421</td>\n",
       "      <td>0.000798</td>\n",
       "    </tr>\n",
       "    <tr>\n",
       "      <th>12</th>\n",
       "      <td>44036939_left_subarticular_stenosis_l2_l3</td>\n",
       "      <td>0.801150</td>\n",
       "      <td>0.124925</td>\n",
       "      <td>0.073926</td>\n",
       "    </tr>\n",
       "    <tr>\n",
       "      <th>13</th>\n",
       "      <td>44036939_right_subarticular_stenosis_l2_l3</td>\n",
       "      <td>0.760396</td>\n",
       "      <td>0.211261</td>\n",
       "      <td>0.028344</td>\n",
       "    </tr>\n",
       "    <tr>\n",
       "      <th>14</th>\n",
       "      <td>44036939_left_subarticular_stenosis_l3_l4</td>\n",
       "      <td>0.665076</td>\n",
       "      <td>0.278135</td>\n",
       "      <td>0.056789</td>\n",
       "    </tr>\n",
       "    <tr>\n",
       "      <th>15</th>\n",
       "      <td>44036939_right_subarticular_stenosis_l3_l4</td>\n",
       "      <td>0.199702</td>\n",
       "      <td>0.788619</td>\n",
       "      <td>0.011679</td>\n",
       "    </tr>\n",
       "    <tr>\n",
       "      <th>16</th>\n",
       "      <td>44036939_left_subarticular_stenosis_l4_l5</td>\n",
       "      <td>0.527448</td>\n",
       "      <td>0.093763</td>\n",
       "      <td>0.378789</td>\n",
       "    </tr>\n",
       "    <tr>\n",
       "      <th>17</th>\n",
       "      <td>44036939_right_subarticular_stenosis_l4_l5</td>\n",
       "      <td>0.416686</td>\n",
       "      <td>0.117648</td>\n",
       "      <td>0.465666</td>\n",
       "    </tr>\n",
       "    <tr>\n",
       "      <th>18</th>\n",
       "      <td>44036939_left_subarticular_stenosis_l5_s1</td>\n",
       "      <td>0.380800</td>\n",
       "      <td>0.555796</td>\n",
       "      <td>0.063405</td>\n",
       "    </tr>\n",
       "    <tr>\n",
       "      <th>19</th>\n",
       "      <td>44036939_right_subarticular_stenosis_l5_s1</td>\n",
       "      <td>0.442669</td>\n",
       "      <td>0.517719</td>\n",
       "      <td>0.039612</td>\n",
       "    </tr>\n",
       "    <tr>\n",
       "      <th>20</th>\n",
       "      <td>44036939_spinal_canal_stenosis_l1_l2</td>\n",
       "      <td>0.678403</td>\n",
       "      <td>0.309798</td>\n",
       "      <td>0.011800</td>\n",
       "    </tr>\n",
       "    <tr>\n",
       "      <th>21</th>\n",
       "      <td>44036939_spinal_canal_stenosis_l2_l3</td>\n",
       "      <td>0.743496</td>\n",
       "      <td>0.091953</td>\n",
       "      <td>0.164551</td>\n",
       "    </tr>\n",
       "    <tr>\n",
       "      <th>22</th>\n",
       "      <td>44036939_spinal_canal_stenosis_l3_l4</td>\n",
       "      <td>0.406855</td>\n",
       "      <td>0.318508</td>\n",
       "      <td>0.274637</td>\n",
       "    </tr>\n",
       "    <tr>\n",
       "      <th>23</th>\n",
       "      <td>44036939_spinal_canal_stenosis_l4_l5</td>\n",
       "      <td>0.701516</td>\n",
       "      <td>0.032774</td>\n",
       "      <td>0.265710</td>\n",
       "    </tr>\n",
       "    <tr>\n",
       "      <th>24</th>\n",
       "      <td>44036939_spinal_canal_stenosis_l5_s1</td>\n",
       "      <td>0.914019</td>\n",
       "      <td>0.065021</td>\n",
       "      <td>0.020960</td>\n",
       "    </tr>\n",
       "  </tbody>\n",
       "</table>\n",
       "</div>"
      ],
      "text/plain": [
       "                                             row_id  normal_mild  moderate  \\\n",
       "0    44036939_left_neural_foraminal_narrowing_l1_l2     0.934461  0.060538   \n",
       "1   44036939_right_neural_foraminal_narrowing_l1_l2     0.708167  0.271924   \n",
       "2    44036939_left_neural_foraminal_narrowing_l2_l3     0.637843  0.359019   \n",
       "3   44036939_right_neural_foraminal_narrowing_l2_l3     0.700618  0.298546   \n",
       "4    44036939_left_neural_foraminal_narrowing_l3_l4     0.353530  0.634238   \n",
       "5   44036939_right_neural_foraminal_narrowing_l3_l4     0.469407  0.528294   \n",
       "6    44036939_left_neural_foraminal_narrowing_l4_l5     0.383200  0.525499   \n",
       "7   44036939_right_neural_foraminal_narrowing_l4_l5     0.618387  0.345188   \n",
       "8    44036939_left_neural_foraminal_narrowing_l5_s1     0.211193  0.359611   \n",
       "9   44036939_right_neural_foraminal_narrowing_l5_s1     0.215729  0.073193   \n",
       "10        44036939_left_subarticular_stenosis_l1_l2     0.695790  0.301320   \n",
       "11       44036939_right_subarticular_stenosis_l1_l2     0.563781  0.435421   \n",
       "12        44036939_left_subarticular_stenosis_l2_l3     0.801150  0.124925   \n",
       "13       44036939_right_subarticular_stenosis_l2_l3     0.760396  0.211261   \n",
       "14        44036939_left_subarticular_stenosis_l3_l4     0.665076  0.278135   \n",
       "15       44036939_right_subarticular_stenosis_l3_l4     0.199702  0.788619   \n",
       "16        44036939_left_subarticular_stenosis_l4_l5     0.527448  0.093763   \n",
       "17       44036939_right_subarticular_stenosis_l4_l5     0.416686  0.117648   \n",
       "18        44036939_left_subarticular_stenosis_l5_s1     0.380800  0.555796   \n",
       "19       44036939_right_subarticular_stenosis_l5_s1     0.442669  0.517719   \n",
       "20             44036939_spinal_canal_stenosis_l1_l2     0.678403  0.309798   \n",
       "21             44036939_spinal_canal_stenosis_l2_l3     0.743496  0.091953   \n",
       "22             44036939_spinal_canal_stenosis_l3_l4     0.406855  0.318508   \n",
       "23             44036939_spinal_canal_stenosis_l4_l5     0.701516  0.032774   \n",
       "24             44036939_spinal_canal_stenosis_l5_s1     0.914019  0.065021   \n",
       "\n",
       "      severe  \n",
       "0   0.005001  \n",
       "1   0.019909  \n",
       "2   0.003138  \n",
       "3   0.000836  \n",
       "4   0.012231  \n",
       "5   0.002298  \n",
       "6   0.091301  \n",
       "7   0.036426  \n",
       "8   0.429197  \n",
       "9   0.711077  \n",
       "10  0.002890  \n",
       "11  0.000798  \n",
       "12  0.073926  \n",
       "13  0.028344  \n",
       "14  0.056789  \n",
       "15  0.011679  \n",
       "16  0.378789  \n",
       "17  0.465666  \n",
       "18  0.063405  \n",
       "19  0.039612  \n",
       "20  0.011800  \n",
       "21  0.164551  \n",
       "22  0.274637  \n",
       "23  0.265710  \n",
       "24  0.020960  "
      ]
     },
     "execution_count": 20,
     "metadata": {},
     "output_type": "execute_result"
    }
   ],
   "source": [
    "results_df"
   ]
  },
  {
   "cell_type": "code",
   "execution_count": 21,
   "id": "8245955a",
   "metadata": {
    "execution": {
     "iopub.execute_input": "2024-07-05T21:25:42.453615Z",
     "iopub.status.busy": "2024-07-05T21:25:42.453337Z",
     "iopub.status.idle": "2024-07-05T21:25:42.461097Z",
     "shell.execute_reply": "2024-07-05T21:25:42.460232Z"
    },
    "papermill": {
     "duration": 0.0215,
     "end_time": "2024-07-05T21:25:42.463441",
     "exception": false,
     "start_time": "2024-07-05T21:25:42.441941",
     "status": "completed"
    },
    "tags": []
   },
   "outputs": [],
   "source": [
    "results_df.to_csv('submission.csv', index=False)"
   ]
  }
 ],
 "metadata": {
  "kaggle": {
   "accelerator": "gpu",
   "dataSources": [
    {
     "databundleVersionId": 8561470,
     "sourceId": 71549,
     "sourceType": "competition"
    },
    {
     "isSourceIdPinned": true,
     "modelInstanceId": 60690,
     "sourceId": 72641,
     "sourceType": "modelInstanceVersion"
    }
   ],
   "dockerImageVersionId": 30733,
   "isGpuEnabled": true,
   "isInternetEnabled": false,
   "language": "python",
   "sourceType": "notebook"
  },
  "kernelspec": {
   "display_name": "Python 3",
   "language": "python",
   "name": "python3"
  },
  "language_info": {
   "codemirror_mode": {
    "name": "ipython",
    "version": 3
   },
   "file_extension": ".py",
   "mimetype": "text/x-python",
   "name": "python",
   "nbconvert_exporter": "python",
   "pygments_lexer": "ipython3",
   "version": "3.10.13"
  },
  "papermill": {
   "default_parameters": {},
   "duration": 20.022293,
   "end_time": "2024-07-05T21:25:44.195996",
   "environment_variables": {},
   "exception": null,
   "input_path": "__notebook__.ipynb",
   "output_path": "__notebook__.ipynb",
   "parameters": {},
   "start_time": "2024-07-05T21:25:24.173703",
   "version": "2.5.0"
  }
 },
 "nbformat": 4,
 "nbformat_minor": 5
}
